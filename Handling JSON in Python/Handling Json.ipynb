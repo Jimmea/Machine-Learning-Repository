{
 "cells": [
  {
   "cell_type": "code",
   "execution_count": 1,
   "metadata": {},
   "outputs": [],
   "source": [
    "# Loading libraries\n",
    "import json\n",
    "import pandas as pd\n",
    "from pandas.io.json import json_normalize"
   ]
  },
  {
   "cell_type": "code",
   "execution_count": 2,
   "metadata": {},
   "outputs": [
    {
     "name": "stdout",
     "output_type": "stream",
     "text": [
      "{'fruit': 'Apple', 'size': 'Large', 'color': 'Red'}\n"
     ]
    }
   ],
   "source": [
    "# Loading the sample json file\n",
    "with open('C:/Users/parag/Desktop/Blogspot/example_1.json',encoding='utf-8-sig') as data_file:\n",
    "    data=json.load(data_file)\n",
    "    \n",
    "print(data)"
   ]
  },
  {
   "cell_type": "code",
   "execution_count": 9,
   "metadata": {},
   "outputs": [
    {
     "data": {
      "text/plain": [
       "dict_keys(['fruit', 'size', 'color'])"
      ]
     },
     "execution_count": 9,
     "metadata": {},
     "output_type": "execute_result"
    }
   ],
   "source": [
    "# As can be seen that the data is structured as a python dictionary\n",
    "# This json object has three keys and three values\n",
    "# We can extract all the keys and values using the following command\n",
    "\n",
    "data.keys()\n",
    "# It has three keys\n"
   ]
  },
  {
   "cell_type": "code",
   "execution_count": 11,
   "metadata": {},
   "outputs": [
    {
     "data": {
      "text/plain": [
       "'Apple'"
      ]
     },
     "execution_count": 11,
     "metadata": {},
     "output_type": "execute_result"
    }
   ],
   "source": [
    "# Extracting the first key value pair\n",
    "k1=list(data.keys())[0]\n",
    "data[k1]"
   ]
  },
  {
   "cell_type": "code",
   "execution_count": 13,
   "metadata": {},
   "outputs": [
    {
     "data": {
      "text/plain": [
       "'Large'"
      ]
     },
     "execution_count": 13,
     "metadata": {},
     "output_type": "execute_result"
    }
   ],
   "source": [
    "# Extracting the second key value pair\n",
    "k2=list(data.keys())[1]\n",
    "data[k2]"
   ]
  },
  {
   "cell_type": "code",
   "execution_count": 16,
   "metadata": {},
   "outputs": [
    {
     "name": "stdout",
     "output_type": "stream",
     "text": [
      "['fruit', 'size', 'color']\n"
     ]
    }
   ],
   "source": [
    "# Creating a dynamic set up to store key in data\n",
    "l1=[]\n",
    "for i in range(len(list(data.keys()))):\n",
    "    l1.append(list(data.keys())[i])\n",
    "\n",
    "print(l1)"
   ]
  },
  {
   "cell_type": "code",
   "execution_count": 18,
   "metadata": {},
   "outputs": [
    {
     "name": "stdout",
     "output_type": "stream",
     "text": [
      "['Apple', 'Large', 'Red']\n"
     ]
    }
   ],
   "source": [
    "# Creating a dynamic set up to store values in data\n",
    "l2=[]\n",
    "for j in range(len(list(data.keys()))):\n",
    "    l2.append(data[list(data.keys())[j]])\n",
    "\n",
    "print(l2)"
   ]
  },
  {
   "cell_type": "code",
   "execution_count": 20,
   "metadata": {},
   "outputs": [
    {
     "data": {
      "text/html": [
       "<div>\n",
       "<style scoped>\n",
       "    .dataframe tbody tr th:only-of-type {\n",
       "        vertical-align: middle;\n",
       "    }\n",
       "\n",
       "    .dataframe tbody tr th {\n",
       "        vertical-align: top;\n",
       "    }\n",
       "\n",
       "    .dataframe thead th {\n",
       "        text-align: right;\n",
       "    }\n",
       "</style>\n",
       "<table border=\"1\" class=\"dataframe\">\n",
       "  <thead>\n",
       "    <tr style=\"text-align: right;\">\n",
       "      <th></th>\n",
       "      <th>C1</th>\n",
       "      <th>C2</th>\n",
       "      <th>C3</th>\n",
       "    </tr>\n",
       "  </thead>\n",
       "  <tbody>\n",
       "    <tr>\n",
       "      <th>0</th>\n",
       "      <td>fruit</td>\n",
       "      <td>size</td>\n",
       "      <td>color</td>\n",
       "    </tr>\n",
       "    <tr>\n",
       "      <th>1</th>\n",
       "      <td>Apple</td>\n",
       "      <td>Large</td>\n",
       "      <td>Red</td>\n",
       "    </tr>\n",
       "  </tbody>\n",
       "</table>\n",
       "</div>"
      ],
      "text/plain": [
       "      C1     C2     C3\n",
       "0  fruit   size  color\n",
       "1  Apple  Large    Red"
      ]
     },
     "execution_count": 20,
     "metadata": {},
     "output_type": "execute_result"
    }
   ],
   "source": [
    "# Appending l1 and l2 in a data frame\n",
    "    \n",
    "df=pd.DataFrame([l1,l2])\n",
    "df.columns=['C1','C2','C3']\n",
    "df"
   ]
  },
  {
   "cell_type": "code",
   "execution_count": 3,
   "metadata": {},
   "outputs": [
    {
     "name": "stdout",
     "output_type": "stream",
     "text": [
      "{'quiz': {'sport': {'q1': {'question': 'Which one is correct team name in NBA?', 'options': ['New York Bulls', 'Los Angeles Kings', 'Golden State Warriros', 'Huston Rocket'], 'answer': 'Huston Rocket'}}, 'maths': {'q1': {'question': '5 + 7 = ?', 'options': ['10', '11', '12', '13'], 'answer': '12'}, 'q2': {'question': '12 - 8 = ?', 'options': ['1', '2', '3', '4'], 'answer': '4'}}}}\n"
     ]
    }
   ],
   "source": [
    "# Loading the sample json file\n",
    "with open('C:/Users/parag/Desktop/Blogspot/example_2.json',encoding='utf-8-sig') as data_file:\n",
    "    data2=json.load(data_file)\n",
    "    \n",
    "    \n",
    "print(data2)"
   ]
  },
  {
   "cell_type": "code",
   "execution_count": 24,
   "metadata": {},
   "outputs": [
    {
     "data": {
      "text/plain": [
       "dict_keys(['quiz'])"
      ]
     },
     "execution_count": 24,
     "metadata": {},
     "output_type": "execute_result"
    }
   ],
   "source": [
    "# Lets first identify the keys in data2 object\n",
    "data2.keys()    \n",
    "# Only one key"
   ]
  },
  {
   "cell_type": "code",
   "execution_count": 5,
   "metadata": {},
   "outputs": [],
   "source": [
    "# The data2 object is arranged as following\n",
    "# There is item related to Subject such as Sports, amths\n",
    "# The question sequence q1,q2....\n",
    "# The question description\n",
    "# Options\n",
    "# Answer"
   ]
  },
  {
   "cell_type": "code",
   "execution_count": 7,
   "metadata": {},
   "outputs": [
    {
     "data": {
      "text/plain": [
       "dict_keys(['sport', 'maths'])"
      ]
     },
     "execution_count": 7,
     "metadata": {},
     "output_type": "execute_result"
    }
   ],
   "source": [
    "# Extracting the subject name\n",
    "ls_sub=list((data2.values()))\n",
    "ls_sub_name=ls_sub[0].keys()\n",
    "ls_sub_name"
   ]
  },
  {
   "cell_type": "code",
   "execution_count": 54,
   "metadata": {},
   "outputs": [
    {
     "name": "stdout",
     "output_type": "stream",
     "text": [
      "[('quiz', {'sport': {'q1': {'question': 'Which one is correct team name in NBA?', 'options': ['New York Bulls', 'Los Angeles Kings', 'Golden State Warriros', 'Huston Rocket'], 'answer': 'Huston Rocket'}}, 'maths': {'q1': {'question': '5 + 7 = ?', 'options': ['10', '11', '12', '13'], 'answer': '12'}, 'q2': {'question': '12 - 8 = ?', 'options': ['1', '2', '3', '4'], 'answer': '4'}}})]\n"
     ]
    }
   ],
   "source": [
    "# Extracting a subject names based on question asked\n",
    "ls_full=[(k,v) for k,v in data2.items()]\n",
    "print(ls_full)"
   ]
  },
  {
   "cell_type": "code",
   "execution_count": 56,
   "metadata": {},
   "outputs": [
    {
     "data": {
      "text/plain": [
       "'quiz'"
      ]
     },
     "execution_count": 56,
     "metadata": {},
     "output_type": "execute_result"
    }
   ],
   "source": [
    "ls_full[0][0] # has a value of quiz"
   ]
  },
  {
   "cell_type": "code",
   "execution_count": 57,
   "metadata": {},
   "outputs": [
    {
     "data": {
      "text/plain": [
       "{'sport': {'q1': {'question': 'Which one is correct team name in NBA?',\n",
       "   'options': ['New York Bulls',\n",
       "    'Los Angeles Kings',\n",
       "    'Golden State Warriros',\n",
       "    'Huston Rocket'],\n",
       "   'answer': 'Huston Rocket'}},\n",
       " 'maths': {'q1': {'question': '5 + 7 = ?',\n",
       "   'options': ['10', '11', '12', '13'],\n",
       "   'answer': '12'},\n",
       "  'q2': {'question': '12 - 8 = ?',\n",
       "   'options': ['1', '2', '3', '4'],\n",
       "   'answer': '4'}}}"
      ]
     },
     "execution_count": 57,
     "metadata": {},
     "output_type": "execute_result"
    }
   ],
   "source": [
    "ls_full[0][1] # Its a dictionary:has the details for the sports and maths quiz"
   ]
  },
  {
   "cell_type": "code",
   "execution_count": 58,
   "metadata": {},
   "outputs": [
    {
     "data": {
      "text/plain": [
       "dict_keys(['sport', 'maths'])"
      ]
     },
     "execution_count": 58,
     "metadata": {},
     "output_type": "execute_result"
    }
   ],
   "source": [
    "ls_full[0][1].keys() # Gives the keys: sports and maths"
   ]
  },
  {
   "cell_type": "code",
   "execution_count": 59,
   "metadata": {},
   "outputs": [
    {
     "data": {
      "text/plain": [
       "dict_values([{'q1': {'question': 'Which one is correct team name in NBA?', 'options': ['New York Bulls', 'Los Angeles Kings', 'Golden State Warriros', 'Huston Rocket'], 'answer': 'Huston Rocket'}}, {'q1': {'question': '5 + 7 = ?', 'options': ['10', '11', '12', '13'], 'answer': '12'}, 'q2': {'question': '12 - 8 = ?', 'options': ['1', '2', '3', '4'], 'answer': '4'}}])"
      ]
     },
     "execution_count": 59,
     "metadata": {},
     "output_type": "execute_result"
    }
   ],
   "source": [
    "ls_full[0][1].values() # Gives the values: details of sports and maths quicz"
   ]
  },
  {
   "cell_type": "code",
   "execution_count": 60,
   "metadata": {},
   "outputs": [
    {
     "data": {
      "text/plain": [
       "2"
      ]
     },
     "execution_count": 60,
     "metadata": {},
     "output_type": "execute_result"
    }
   ],
   "source": [
    "len(ls_full[0][1].values())# gives a value of 2\n",
    "# we will loop through this as it contains the question for each subject"
   ]
  },
  {
   "cell_type": "code",
   "execution_count": 63,
   "metadata": {},
   "outputs": [
    {
     "name": "stdout",
     "output_type": "stream",
     "text": [
      "['sport', 'maths', 'maths']\n"
     ]
    }
   ],
   "source": [
    "# now we have to loop through ls_full[0][1]\n",
    "ls_sub_nm=[]\n",
    "\n",
    "for i in ls_full[0][1].values():\n",
    "    tmp=len(i)\n",
    "    for k in range(tmp):\n",
    "        ls_sub_nm.append(list(ls_full[0][1].keys())[len(i)-1])\n",
    "\n",
    "print(ls_sub_nm)"
   ]
  },
  {
   "cell_type": "code",
   "execution_count": 65,
   "metadata": {},
   "outputs": [
    {
     "data": {
      "text/plain": [
       "['q1', 'q1', 'q2']"
      ]
     },
     "execution_count": 65,
     "metadata": {},
     "output_type": "execute_result"
    }
   ],
   "source": [
    "# Extracting the question sequence\n",
    "ls_qn=list((data2.values()))\n",
    "list(ls_sub[0].values())[0].keys()\n",
    "    \n",
    "ls_qn_num=[]\n",
    "for i in list(ls_sub[0].values()):\n",
    "    temp=len(i)\n",
    "    while temp >=1 :\n",
    "        ls_qn_num.append(list(i.keys())[-temp])\n",
    "        temp=temp-1\n",
    "\n",
    "ls_qn_num\n",
    "# The ls_qn_num contains the list of questions asked in the exam"
   ]
  },
  {
   "cell_type": "code",
   "execution_count": 66,
   "metadata": {},
   "outputs": [
    {
     "data": {
      "text/plain": [
       "['Which one is correct team name in NBA?', '5 + 7 = ?', '12 - 8 = ?']"
      ]
     },
     "execution_count": 66,
     "metadata": {},
     "output_type": "execute_result"
    }
   ],
   "source": [
    "# Extracting the question descritpion\n",
    "ls_qn=list((data2.values()))\n",
    "list(list(list(ls_sub[0].values())[0].values())[0].values())[0]\n",
    "\n",
    "type(ls_sub[0].values())\n",
    "ls_qn_des=[]\n",
    "for i in list(ls_sub[0].values()):\n",
    "    temp=len(i)\n",
    "    while temp >=1 :\n",
    "        ls_qn_des.append(list(i.values())[-temp]['question'])\n",
    "        temp=temp-1\n",
    "\n",
    "ls_qn_des        \n",
    "# The ls_qn_des contains the description of questions asked in the exam"
   ]
  },
  {
   "cell_type": "code",
   "execution_count": 67,
   "metadata": {},
   "outputs": [
    {
     "data": {
      "text/plain": [
       "[['New York Bulls',\n",
       "  'Los Angeles Kings',\n",
       "  'Golden State Warriros',\n",
       "  'Huston Rocket'],\n",
       " ['10', '11', '12', '13'],\n",
       " ['1', '2', '3', '4']]"
      ]
     },
     "execution_count": 67,
     "metadata": {},
     "output_type": "execute_result"
    }
   ],
   "source": [
    "# Extracting the options \n",
    "ls_qn_optn=[]\n",
    "for i in list(ls_sub[0].values()):\n",
    "    temp=len(i)\n",
    "    while temp >=1 :\n",
    "        ls_qn_optn.append(list(i.values())[-temp]['options'])\n",
    "        temp=temp-1\n",
    "ls_qn_optn"
   ]
  },
  {
   "cell_type": "code",
   "execution_count": 68,
   "metadata": {},
   "outputs": [
    {
     "data": {
      "text/plain": [
       "['Huston Rocket', '12', '4']"
      ]
     },
     "execution_count": 68,
     "metadata": {},
     "output_type": "execute_result"
    }
   ],
   "source": [
    "# Extracting the answer marked \n",
    "ls_qn_ans=[]\n",
    "for i in list(ls_sub[0].values()):\n",
    "    temp=len(i)\n",
    "    while temp >=1 :\n",
    "        ls_qn_ans.append(list(i.values())[-temp]['answer'])\n",
    "        temp=temp-1\n",
    "\n",
    "ls_qn_ans"
   ]
  },
  {
   "cell_type": "code",
   "execution_count": 69,
   "metadata": {},
   "outputs": [
    {
     "name": "stdout",
     "output_type": "stream",
     "text": [
      "  Subject_Name Question_Num                                Question  \\\n",
      "0        sport           q1  Which one is correct team name in NBA?   \n",
      "1        maths           q1                               5 + 7 = ?   \n",
      "2        maths           q2                              12 - 8 = ?   \n",
      "\n",
      "                                             Options         Answer  \n",
      "0  [New York Bulls, Los Angeles Kings, Golden Sta...  Huston Rocket  \n",
      "1                                   [10, 11, 12, 13]             12  \n",
      "2                                       [1, 2, 3, 4]              4  \n"
     ]
    }
   ],
   "source": [
    "# Combining the above lists into a pandas data frame\n",
    "df2=pd.DataFrame([ls_sub_nm,ls_qn_num,ls_qn_des,ls_qn_optn,ls_qn_ans]).T     \n",
    "df2.columns=['Subject_Name','Question_Num','Question','Options','Answer']\n",
    "print(df2)\n"
   ]
  },
  {
   "cell_type": "code",
   "execution_count": null,
   "metadata": {},
   "outputs": [],
   "source": [
    "# So it can be seen that the above lists have been converted into a data framw which is a standard structure used \n",
    "# in most data analysis"
   ]
  }
 ],
 "metadata": {
  "kernelspec": {
   "display_name": "Python 3",
   "language": "python",
   "name": "python3"
  },
  "language_info": {
   "codemirror_mode": {
    "name": "ipython",
    "version": 3
   },
   "file_extension": ".py",
   "mimetype": "text/x-python",
   "name": "python",
   "nbconvert_exporter": "python",
   "pygments_lexer": "ipython3",
   "version": "3.6.5"
  }
 },
 "nbformat": 4,
 "nbformat_minor": 2
}

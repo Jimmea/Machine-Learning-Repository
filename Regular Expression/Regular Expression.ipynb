{
 "cells": [
  {
   "cell_type": "code",
   "execution_count": 2,
   "metadata": {},
   "outputs": [],
   "source": [
    "# Importing the libraries\n",
    "import re\n",
    "import pandas as pd\n",
    "import numpy as np"
   ]
  },
  {
   "cell_type": "code",
   "execution_count": 11,
   "metadata": {},
   "outputs": [
    {
     "data": {
      "text/plain": [
       "[True, True, False]"
      ]
     },
     "execution_count": 11,
     "metadata": {},
     "output_type": "execute_result"
    }
   ],
   "source": [
    "###############################################\n",
    "# Creating a list of text element\n",
    "# Lets try to find the presence of 'python' string in the list\n",
    "ls=[]\n",
    "ls=['This is python 3.6','for Data Science we need python','Data Science is the next big thing']\n",
    "[bool(re.findall(\"python\",i)) for i in ls]"
   ]
  },
  {
   "cell_type": "code",
   "execution_count": 12,
   "metadata": {},
   "outputs": [
    {
     "data": {
      "text/plain": [
       "['This is python 3.6',\n",
       " 'for Data Science we need python',\n",
       " 'Data Science is the next big thing',\n",
       " 'apythonisation',\n",
       " 'There are more than 10 pythons in the jungle']"
      ]
     },
     "execution_count": 12,
     "metadata": {},
     "output_type": "execute_result"
    }
   ],
   "source": [
    "# Lets say there is a string added to ls such as 'apythnisation'\n",
    "# In those cases even though python string is present in 'apythonisation' but we dont to match that\n",
    "# For these cases we have to look for 'word boundary' as shown below\n",
    "ls.append('apythonisation')\n",
    "ls.append('There are more than 10 pythons in the jungle')\n",
    "ls"
   ]
  },
  {
   "cell_type": "code",
   "execution_count": 13,
   "metadata": {},
   "outputs": [
    {
     "data": {
      "text/plain": [
       "[True, True, False, False, False]"
      ]
     },
     "execution_count": 13,
     "metadata": {},
     "output_type": "execute_result"
    }
   ],
   "source": [
    "# Return True or False if python string is present in ls\n",
    "[bool(re.findall(r'\\bpython\\b',i)) for i in ls]"
   ]
  },
  {
   "cell_type": "code",
   "execution_count": 14,
   "metadata": {},
   "outputs": [
    {
     "data": {
      "text/html": [
       "<div>\n",
       "<style scoped>\n",
       "    .dataframe tbody tr th:only-of-type {\n",
       "        vertical-align: middle;\n",
       "    }\n",
       "\n",
       "    .dataframe tbody tr th {\n",
       "        vertical-align: top;\n",
       "    }\n",
       "\n",
       "    .dataframe thead th {\n",
       "        text-align: right;\n",
       "    }\n",
       "</style>\n",
       "<table border=\"1\" class=\"dataframe\">\n",
       "  <thead>\n",
       "    <tr style=\"text-align: right;\">\n",
       "      <th></th>\n",
       "      <th>Text</th>\n",
       "    </tr>\n",
       "  </thead>\n",
       "  <tbody>\n",
       "    <tr>\n",
       "      <th>0</th>\n",
       "      <td>This is python 3.6</td>\n",
       "    </tr>\n",
       "    <tr>\n",
       "      <th>1</th>\n",
       "      <td>for Data Science we need python</td>\n",
       "    </tr>\n",
       "    <tr>\n",
       "      <th>2</th>\n",
       "      <td>Data Science is the next big thing</td>\n",
       "    </tr>\n",
       "    <tr>\n",
       "      <th>3</th>\n",
       "      <td>apythonisation</td>\n",
       "    </tr>\n",
       "    <tr>\n",
       "      <th>4</th>\n",
       "      <td>There are more than 10 pythons in the jungle</td>\n",
       "    </tr>\n",
       "  </tbody>\n",
       "</table>\n",
       "</div>"
      ],
      "text/plain": [
       "                                           Text\n",
       "0                            This is python 3.6\n",
       "1               for Data Science we need python\n",
       "2            Data Science is the next big thing\n",
       "3                                apythonisation\n",
       "4  There are more than 10 pythons in the jungle"
      ]
     },
     "execution_count": 14,
     "metadata": {},
     "output_type": "execute_result"
    }
   ],
   "source": [
    "# Lets say that we are given a data frame and we want to do the same thing here\n",
    "# There will be a slight change in the function we would use\n",
    "# Lets create a data frame\n",
    "\n",
    "df=pd.DataFrame(np.array(ls),columns=['Text'])\n",
    "df"
   ]
  },
  {
   "cell_type": "code",
   "execution_count": 15,
   "metadata": {},
   "outputs": [
    {
     "data": {
      "text/plain": [
       "[True, True, False, False, False]"
      ]
     },
     "execution_count": 15,
     "metadata": {},
     "output_type": "execute_result"
    }
   ],
   "source": [
    "# Lets try and detect 'python' string in the 'Text column'\n",
    "pos=[bool(i) for i in list(df['Text'].str.findall(r'\\bpython\\b'))]\n",
    "pos"
   ]
  },
  {
   "cell_type": "code",
   "execution_count": 16,
   "metadata": {},
   "outputs": [
    {
     "data": {
      "text/html": [
       "<div>\n",
       "<style scoped>\n",
       "    .dataframe tbody tr th:only-of-type {\n",
       "        vertical-align: middle;\n",
       "    }\n",
       "\n",
       "    .dataframe tbody tr th {\n",
       "        vertical-align: top;\n",
       "    }\n",
       "\n",
       "    .dataframe thead th {\n",
       "        text-align: right;\n",
       "    }\n",
       "</style>\n",
       "<table border=\"1\" class=\"dataframe\">\n",
       "  <thead>\n",
       "    <tr style=\"text-align: right;\">\n",
       "      <th></th>\n",
       "      <th>Text</th>\n",
       "      <th>Present</th>\n",
       "    </tr>\n",
       "  </thead>\n",
       "  <tbody>\n",
       "    <tr>\n",
       "      <th>0</th>\n",
       "      <td>This is python 3.6</td>\n",
       "      <td>True</td>\n",
       "    </tr>\n",
       "    <tr>\n",
       "      <th>1</th>\n",
       "      <td>for Data Science we need python</td>\n",
       "      <td>True</td>\n",
       "    </tr>\n",
       "    <tr>\n",
       "      <th>2</th>\n",
       "      <td>Data Science is the next big thing</td>\n",
       "      <td>False</td>\n",
       "    </tr>\n",
       "    <tr>\n",
       "      <th>3</th>\n",
       "      <td>apythonisation</td>\n",
       "      <td>False</td>\n",
       "    </tr>\n",
       "    <tr>\n",
       "      <th>4</th>\n",
       "      <td>There are more than 10 pythons in the jungle</td>\n",
       "      <td>False</td>\n",
       "    </tr>\n",
       "  </tbody>\n",
       "</table>\n",
       "</div>"
      ],
      "text/plain": [
       "                                           Text  Present\n",
       "0                            This is python 3.6     True\n",
       "1               for Data Science we need python     True\n",
       "2            Data Science is the next big thing    False\n",
       "3                                apythonisation    False\n",
       "4  There are more than 10 pythons in the jungle    False"
      ]
     },
     "execution_count": 16,
     "metadata": {},
     "output_type": "execute_result"
    }
   ],
   "source": [
    "# Adding this column to the data frame df\n",
    "df['Present']=pos\n",
    "df"
   ]
  },
  {
   "cell_type": "code",
   "execution_count": 17,
   "metadata": {},
   "outputs": [
    {
     "data": {
      "text/plain": [
       "2"
      ]
     },
     "execution_count": 17,
     "metadata": {},
     "output_type": "execute_result"
    }
   ],
   "source": [
    "# To get the total occurences of 'python' in 'Text' column, we can sum up the total True present in \n",
    "df['Present'].sum()"
   ]
  },
  {
   "cell_type": "code",
   "execution_count": 18,
   "metadata": {},
   "outputs": [
    {
     "data": {
      "text/plain": [
       "['This is python 3.6',\n",
       " 'for Data Science we need python',\n",
       " 'Data Science is the next big thing',\n",
       " 'apythonisation',\n",
       " 'There are more than 10 pythons in the jungle']"
      ]
     },
     "execution_count": 18,
     "metadata": {},
     "output_type": "execute_result"
    }
   ],
   "source": [
    "###############################################\n",
    "# 2: Lets day we want to extract digits from ls\n",
    "ls"
   ]
  },
  {
   "cell_type": "code",
   "execution_count": 19,
   "metadata": {},
   "outputs": [
    {
     "data": {
      "text/plain": [
       "[['3.6'], [], [], [], ['10']]"
      ]
     },
     "execution_count": 19,
     "metadata": {},
     "output_type": "execute_result"
    }
   ],
   "source": [
    "[re.findall(r'\\b\\d+\\.\\d+\\b|\\b\\d+\\b',i) for i in ls]\n",
    "# The above code identifies both the decimal part as well as the integer part"
   ]
  },
  {
   "cell_type": "code",
   "execution_count": 20,
   "metadata": {},
   "outputs": [
    {
     "data": {
      "text/plain": [
       "[['3.6'], [], [], [], ['10']]"
      ]
     },
     "execution_count": 20,
     "metadata": {},
     "output_type": "execute_result"
    }
   ],
   "source": [
    "# Lets say we want to extract only the number part then\n",
    "x=[re.findall(r'\\b\\d+\\.\\d+\\b|\\b\\d+\\b',i) for i in ls]\n",
    "y=[j for j in x]\n",
    "y"
   ]
  },
  {
   "cell_type": "code",
   "execution_count": 21,
   "metadata": {},
   "outputs": [
    {
     "data": {
      "text/plain": [
       "[['3.6'], 'NA', 'NA', 'NA', ['10']]"
      ]
     },
     "execution_count": 21,
     "metadata": {},
     "output_type": "execute_result"
    }
   ],
   "source": [
    "z=[]\n",
    "for i in y:\n",
    "    if len(i)==0:\n",
    "        z.append('NA')\n",
    "    else:\n",
    "        z.append(i)\n",
    "z      "
   ]
  },
  {
   "cell_type": "code",
   "execution_count": 22,
   "metadata": {},
   "outputs": [
    {
     "data": {
      "text/plain": [
       "['3.6', 'NA', 'NA', 'NA', '10']"
      ]
     },
     "execution_count": 22,
     "metadata": {},
     "output_type": "execute_result"
    }
   ],
   "source": [
    "# Unlisting of elements in z\n",
    "z1=[]\n",
    "for i in z:\n",
    "   if type(i) is list:\n",
    "    z1.append(i[0])\n",
    "   else:\n",
    "    z1.append(i)\n",
    "z1  "
   ]
  },
  {
   "cell_type": "code",
   "execution_count": 23,
   "metadata": {},
   "outputs": [
    {
     "data": {
      "text/plain": [
       "[3.6, 'NA', 'NA', 'NA', 10.0]"
      ]
     },
     "execution_count": 23,
     "metadata": {},
     "output_type": "execute_result"
    }
   ],
   "source": [
    "# We can create a simple utility function that either converts the given value to a float if possible, or returns it as is\n",
    "def maybe_int(s):\n",
    "    try:\n",
    "        return float(s)\n",
    "    except (ValueError, TypeError):\n",
    "        return s\n",
    "z2 = [maybe_int(v) for v in z1]   \n",
    "z2"
   ]
  },
  {
   "cell_type": "code",
   "execution_count": 24,
   "metadata": {},
   "outputs": [
    {
     "data": {
      "text/html": [
       "<div>\n",
       "<style scoped>\n",
       "    .dataframe tbody tr th:only-of-type {\n",
       "        vertical-align: middle;\n",
       "    }\n",
       "\n",
       "    .dataframe tbody tr th {\n",
       "        vertical-align: top;\n",
       "    }\n",
       "\n",
       "    .dataframe thead th {\n",
       "        text-align: right;\n",
       "    }\n",
       "</style>\n",
       "<table border=\"1\" class=\"dataframe\">\n",
       "  <thead>\n",
       "    <tr style=\"text-align: right;\">\n",
       "      <th></th>\n",
       "      <th>Text</th>\n",
       "      <th>Present</th>\n",
       "      <th>Number</th>\n",
       "    </tr>\n",
       "  </thead>\n",
       "  <tbody>\n",
       "    <tr>\n",
       "      <th>0</th>\n",
       "      <td>This is python 3.6</td>\n",
       "      <td>True</td>\n",
       "      <td>3.6</td>\n",
       "    </tr>\n",
       "    <tr>\n",
       "      <th>1</th>\n",
       "      <td>for Data Science we need python</td>\n",
       "      <td>True</td>\n",
       "      <td>NA</td>\n",
       "    </tr>\n",
       "    <tr>\n",
       "      <th>2</th>\n",
       "      <td>Data Science is the next big thing</td>\n",
       "      <td>False</td>\n",
       "      <td>NA</td>\n",
       "    </tr>\n",
       "    <tr>\n",
       "      <th>3</th>\n",
       "      <td>apythonisation</td>\n",
       "      <td>False</td>\n",
       "      <td>NA</td>\n",
       "    </tr>\n",
       "    <tr>\n",
       "      <th>4</th>\n",
       "      <td>There are more than 10 pythons in the jungle</td>\n",
       "      <td>False</td>\n",
       "      <td>10</td>\n",
       "    </tr>\n",
       "  </tbody>\n",
       "</table>\n",
       "</div>"
      ],
      "text/plain": [
       "                                           Text  Present Number\n",
       "0                            This is python 3.6     True    3.6\n",
       "1               for Data Science we need python     True     NA\n",
       "2            Data Science is the next big thing    False     NA\n",
       "3                                apythonisation    False     NA\n",
       "4  There are more than 10 pythons in the jungle    False     10"
      ]
     },
     "execution_count": 24,
     "metadata": {},
     "output_type": "execute_result"
    }
   ],
   "source": [
    "# Adding the column to the data frame\n",
    "df['Number']=z2\n",
    "df.head()"
   ]
  },
  {
   "cell_type": "code",
   "execution_count": 25,
   "metadata": {},
   "outputs": [
    {
     "data": {
      "text/plain": [
       "[True, False, False, False, True]"
      ]
     },
     "execution_count": 25,
     "metadata": {},
     "output_type": "execute_result"
    }
   ],
   "source": [
    "# Getting True and Flase where numbers are present\n",
    "[bool(re.findall(r'\\b\\d+\\.\\d+\\b|\\b\\d+\\b',i)) for i in ls]"
   ]
  },
  {
   "cell_type": "code",
   "execution_count": 26,
   "metadata": {},
   "outputs": [
    {
     "data": {
      "text/html": [
       "<div>\n",
       "<style scoped>\n",
       "    .dataframe tbody tr th:only-of-type {\n",
       "        vertical-align: middle;\n",
       "    }\n",
       "\n",
       "    .dataframe tbody tr th {\n",
       "        vertical-align: top;\n",
       "    }\n",
       "\n",
       "    .dataframe thead th {\n",
       "        text-align: right;\n",
       "    }\n",
       "</style>\n",
       "<table border=\"1\" class=\"dataframe\">\n",
       "  <thead>\n",
       "    <tr style=\"text-align: right;\">\n",
       "      <th></th>\n",
       "      <th>Text</th>\n",
       "      <th>Present</th>\n",
       "      <th>Number</th>\n",
       "      <th>Presence</th>\n",
       "    </tr>\n",
       "  </thead>\n",
       "  <tbody>\n",
       "    <tr>\n",
       "      <th>0</th>\n",
       "      <td>This is python 3.6</td>\n",
       "      <td>True</td>\n",
       "      <td>3.6</td>\n",
       "      <td>True</td>\n",
       "    </tr>\n",
       "    <tr>\n",
       "      <th>1</th>\n",
       "      <td>for Data Science we need python</td>\n",
       "      <td>True</td>\n",
       "      <td>NA</td>\n",
       "      <td>False</td>\n",
       "    </tr>\n",
       "    <tr>\n",
       "      <th>2</th>\n",
       "      <td>Data Science is the next big thing</td>\n",
       "      <td>False</td>\n",
       "      <td>NA</td>\n",
       "      <td>False</td>\n",
       "    </tr>\n",
       "    <tr>\n",
       "      <th>3</th>\n",
       "      <td>apythonisation</td>\n",
       "      <td>False</td>\n",
       "      <td>NA</td>\n",
       "      <td>False</td>\n",
       "    </tr>\n",
       "    <tr>\n",
       "      <th>4</th>\n",
       "      <td>There are more than 10 pythons in the jungle</td>\n",
       "      <td>False</td>\n",
       "      <td>10</td>\n",
       "      <td>True</td>\n",
       "    </tr>\n",
       "  </tbody>\n",
       "</table>\n",
       "</div>"
      ],
      "text/plain": [
       "                                           Text  Present Number  Presence\n",
       "0                            This is python 3.6     True    3.6      True\n",
       "1               for Data Science we need python     True     NA     False\n",
       "2            Data Science is the next big thing    False     NA     False\n",
       "3                                apythonisation    False     NA     False\n",
       "4  There are more than 10 pythons in the jungle    False     10      True"
      ]
     },
     "execution_count": 26,
     "metadata": {},
     "output_type": "execute_result"
    }
   ],
   "source": [
    "# Adding this to the data frame df as well\n",
    "df['Presence']=[bool(re.findall(r'\\b\\d+\\.\\d+\\b|\\b\\d+\\b',i)) for i in ls]\n",
    "df"
   ]
  },
  {
   "cell_type": "code",
   "execution_count": 27,
   "metadata": {},
   "outputs": [
    {
     "data": {
      "text/html": [
       "<div>\n",
       "<style scoped>\n",
       "    .dataframe tbody tr th:only-of-type {\n",
       "        vertical-align: middle;\n",
       "    }\n",
       "\n",
       "    .dataframe tbody tr th {\n",
       "        vertical-align: top;\n",
       "    }\n",
       "\n",
       "    .dataframe thead th {\n",
       "        text-align: right;\n",
       "    }\n",
       "</style>\n",
       "<table border=\"1\" class=\"dataframe\">\n",
       "  <thead>\n",
       "    <tr style=\"text-align: right;\">\n",
       "      <th></th>\n",
       "      <th>Text</th>\n",
       "    </tr>\n",
       "  </thead>\n",
       "  <tbody>\n",
       "    <tr>\n",
       "      <th>0</th>\n",
       "      <td>70 gm of whey protien</td>\n",
       "    </tr>\n",
       "    <tr>\n",
       "      <th>1</th>\n",
       "      <td>One should use one scoop(25 gms) after gym</td>\n",
       "    </tr>\n",
       "    <tr>\n",
       "      <th>2</th>\n",
       "      <td>5 gm of creatinine is sufficient</td>\n",
       "    </tr>\n",
       "    <tr>\n",
       "      <th>3</th>\n",
       "      <td>2 scoops of whey is =45gm of protin</td>\n",
       "    </tr>\n",
       "    <tr>\n",
       "      <th>4</th>\n",
       "      <td>There are more than 5 brands that sell whey</td>\n",
       "    </tr>\n",
       "    <tr>\n",
       "      <th>5</th>\n",
       "      <td>There is still stigma around using supplements</td>\n",
       "    </tr>\n",
       "  </tbody>\n",
       "</table>\n",
       "</div>"
      ],
      "text/plain": [
       "                                             Text\n",
       "0                           70 gm of whey protien\n",
       "1      One should use one scoop(25 gms) after gym\n",
       "2                5 gm of creatinine is sufficient\n",
       "3             2 scoops of whey is =45gm of protin\n",
       "4     There are more than 5 brands that sell whey\n",
       "5  There is still stigma around using supplements"
      ]
     },
     "execution_count": 27,
     "metadata": {},
     "output_type": "execute_result"
    }
   ],
   "source": [
    "#######################################################\n",
    "# 3 Extract information from string\n",
    "l1=['70 gm of whey protien','One should use one scoop(25 gms) after gym',\n",
    "   '5 gm of creatinine is sufficient','2 scoops of whey is =45gm of protin',\n",
    "   'There are more than 5 brands that sell whey',\n",
    "   'There is still stigma around using supplements']\n",
    "df1=pd.DataFrame(l1,columns=['Text'])\n",
    "df1"
   ]
  },
  {
   "cell_type": "code",
   "execution_count": 28,
   "metadata": {},
   "outputs": [],
   "source": [
    "# Replace all entires of gm with gms\n",
    "# Normalise 'protin' with 'protein'\n",
    "# Extract the weight in gms from each row of 'Text'"
   ]
  },
  {
   "cell_type": "code",
   "execution_count": 29,
   "metadata": {},
   "outputs": [
    {
     "data": {
      "text/html": [
       "<div>\n",
       "<style scoped>\n",
       "    .dataframe tbody tr th:only-of-type {\n",
       "        vertical-align: middle;\n",
       "    }\n",
       "\n",
       "    .dataframe tbody tr th {\n",
       "        vertical-align: top;\n",
       "    }\n",
       "\n",
       "    .dataframe thead th {\n",
       "        text-align: right;\n",
       "    }\n",
       "</style>\n",
       "<table border=\"1\" class=\"dataframe\">\n",
       "  <thead>\n",
       "    <tr style=\"text-align: right;\">\n",
       "      <th></th>\n",
       "      <th>Text</th>\n",
       "      <th>Text2</th>\n",
       "    </tr>\n",
       "  </thead>\n",
       "  <tbody>\n",
       "    <tr>\n",
       "      <th>0</th>\n",
       "      <td>70 gm of whey protien</td>\n",
       "      <td>70 gms of whey protien</td>\n",
       "    </tr>\n",
       "    <tr>\n",
       "      <th>1</th>\n",
       "      <td>One should use one scoop(25 gms) after gym</td>\n",
       "      <td>One should use one scoop(25 gms) after gym</td>\n",
       "    </tr>\n",
       "    <tr>\n",
       "      <th>2</th>\n",
       "      <td>5 gm of creatinine is sufficient</td>\n",
       "      <td>5 gms of creatinine is sufficient</td>\n",
       "    </tr>\n",
       "    <tr>\n",
       "      <th>3</th>\n",
       "      <td>2 scoops of whey is =45gm of protin</td>\n",
       "      <td>2 scoops of whey is =45gm of protin</td>\n",
       "    </tr>\n",
       "    <tr>\n",
       "      <th>4</th>\n",
       "      <td>There are more than 5 brands that sell whey</td>\n",
       "      <td>There are more than 5 brands that sell whey</td>\n",
       "    </tr>\n",
       "    <tr>\n",
       "      <th>5</th>\n",
       "      <td>There is still stigma around using supplements</td>\n",
       "      <td>There is still stigma around using supplements</td>\n",
       "    </tr>\n",
       "  </tbody>\n",
       "</table>\n",
       "</div>"
      ],
      "text/plain": [
       "                                             Text  \\\n",
       "0                           70 gm of whey protien   \n",
       "1      One should use one scoop(25 gms) after gym   \n",
       "2                5 gm of creatinine is sufficient   \n",
       "3             2 scoops of whey is =45gm of protin   \n",
       "4     There are more than 5 brands that sell whey   \n",
       "5  There is still stigma around using supplements   \n",
       "\n",
       "                                            Text2  \n",
       "0                          70 gms of whey protien  \n",
       "1      One should use one scoop(25 gms) after gym  \n",
       "2               5 gms of creatinine is sufficient  \n",
       "3             2 scoops of whey is =45gm of protin  \n",
       "4     There are more than 5 brands that sell whey  \n",
       "5  There is still stigma around using supplements  "
      ]
     },
     "execution_count": 29,
     "metadata": {},
     "output_type": "execute_result"
    }
   ],
   "source": [
    "# Task 1:Replace all entires of gm with gms\n",
    "df1['Text2']=df1['Text'].apply(lambda x: re.sub(r'\\bgm\\b','gms',x))\n",
    "df1"
   ]
  },
  {
   "cell_type": "code",
   "execution_count": 30,
   "metadata": {},
   "outputs": [
    {
     "data": {
      "text/plain": [
       "'450 gms'"
      ]
     },
     "execution_count": 30,
     "metadata": {},
     "output_type": "execute_result"
    }
   ],
   "source": [
    "# We can see that in the 4th row, 45gm has not been converted into 45 gms\n",
    "# So we need to tweek in the regular expression a little\n",
    "\n",
    "# Lets try out a small example to devolop the rule\n",
    "# Replace the 450gm with 'd'\n",
    "str1='450gm'\n",
    "#re.findall(r'\\d+[a-z][a-z]',str1)\n",
    "#re.sub(r'\\d+[gm][gm]','d',str1)   \n",
    "#re.findall(r'\\d+',str1)\n",
    "\n",
    "re.findall(r'\\d+',str1) # Extracts 450 \n",
    "re.findall(r'[gm][gm]',str1)# Extracts only the gm portion\n",
    "re.findall(r'\\d+[gm][gm]',str1)\n",
    "re.sub(r'\\d+[gm][gm]',re.findall(r'\\d+',str1)[0]+' '+ re.findall(r'[gm][gm]',str1)[0],str1)+'s'\n"
   ]
  },
  {
   "cell_type": "code",
   "execution_count": 31,
   "metadata": {},
   "outputs": [
    {
     "data": {
      "text/html": [
       "<div>\n",
       "<style scoped>\n",
       "    .dataframe tbody tr th:only-of-type {\n",
       "        vertical-align: middle;\n",
       "    }\n",
       "\n",
       "    .dataframe tbody tr th {\n",
       "        vertical-align: top;\n",
       "    }\n",
       "\n",
       "    .dataframe thead th {\n",
       "        text-align: right;\n",
       "    }\n",
       "</style>\n",
       "<table border=\"1\" class=\"dataframe\">\n",
       "  <thead>\n",
       "    <tr style=\"text-align: right;\">\n",
       "      <th></th>\n",
       "      <th>Text</th>\n",
       "      <th>Text2</th>\n",
       "    </tr>\n",
       "  </thead>\n",
       "  <tbody>\n",
       "    <tr>\n",
       "      <th>0</th>\n",
       "      <td>70 gm of whey protien</td>\n",
       "      <td>70 gms of whey protien</td>\n",
       "    </tr>\n",
       "    <tr>\n",
       "      <th>1</th>\n",
       "      <td>One should use one scoop(25 gms) after gym</td>\n",
       "      <td>One should use one scoop(25 gms) after gym</td>\n",
       "    </tr>\n",
       "    <tr>\n",
       "      <th>2</th>\n",
       "      <td>5 gm of creatinine is sufficient</td>\n",
       "      <td>5 gms of creatinine is sufficient</td>\n",
       "    </tr>\n",
       "    <tr>\n",
       "      <th>3</th>\n",
       "      <td>2 scoops of whey is =45gm of protin</td>\n",
       "      <td>2 scoops of whey is =45gm of protin</td>\n",
       "    </tr>\n",
       "    <tr>\n",
       "      <th>4</th>\n",
       "      <td>There are more than 5 brands that sell whey</td>\n",
       "      <td>There are more than 5 brands that sell whey</td>\n",
       "    </tr>\n",
       "    <tr>\n",
       "      <th>5</th>\n",
       "      <td>There is still stigma around using supplements</td>\n",
       "      <td>There is still stigma around using supplements</td>\n",
       "    </tr>\n",
       "  </tbody>\n",
       "</table>\n",
       "</div>"
      ],
      "text/plain": [
       "                                             Text  \\\n",
       "0                           70 gm of whey protien   \n",
       "1      One should use one scoop(25 gms) after gym   \n",
       "2                5 gm of creatinine is sufficient   \n",
       "3             2 scoops of whey is =45gm of protin   \n",
       "4     There are more than 5 brands that sell whey   \n",
       "5  There is still stigma around using supplements   \n",
       "\n",
       "                                            Text2  \n",
       "0                          70 gms of whey protien  \n",
       "1      One should use one scoop(25 gms) after gym  \n",
       "2               5 gms of creatinine is sufficient  \n",
       "3             2 scoops of whey is =45gm of protin  \n",
       "4     There are more than 5 brands that sell whey  \n",
       "5  There is still stigma around using supplements  "
      ]
     },
     "execution_count": 31,
     "metadata": {},
     "output_type": "execute_result"
    }
   ],
   "source": [
    "# We can modify the above regular expression for our purpose\n",
    "df1"
   ]
  },
  {
   "cell_type": "code",
   "execution_count": 32,
   "metadata": {},
   "outputs": [
    {
     "data": {
      "text/plain": [
       "'2 scoops of whey is = 45 gms of protin'"
      ]
     },
     "execution_count": 32,
     "metadata": {},
     "output_type": "execute_result"
    }
   ],
   "source": [
    "# re.sub(r'\\d+[gm][gm]',re.findall(r'\\d+',str1)[0]+' '+ re.findall(r'[gm][gm]',str1)[0],str1)+'s'\n",
    "x=re.sub(r'\\d+[gm][gm]',' '+re.findall(r'\\d+[gm][gm]',df1['Text'][3])[0]+'s',df1['Text'][3])  \n",
    "x\n",
    "re.sub(r'[gm][gm]',' gm',x)"
   ]
  },
  {
   "cell_type": "code",
   "execution_count": 33,
   "metadata": {},
   "outputs": [
    {
     "data": {
      "text/plain": [
       "['70 gms of whey protien',\n",
       " 'One should use one scoop(25 gms) after gym',\n",
       " '5 gms of creatinine is sufficient',\n",
       " '2 scoops of whey is = 45gms of protin',\n",
       " 'There are more than 5 brands that sell whey',\n",
       " 'There is still stigma around using supplements']"
      ]
     },
     "execution_count": 33,
     "metadata": {},
     "output_type": "execute_result"
    }
   ],
   "source": [
    "rep1=[re.sub(r'\\d+[gm][gm]',' '+\"\".join(re.findall(r'\\d+[gm][gm]',i))+'s',i)   for i in df1['Text2']]\n",
    "rep1"
   ]
  },
  {
   "cell_type": "code",
   "execution_count": 34,
   "metadata": {},
   "outputs": [
    {
     "data": {
      "text/plain": [
       "['70  gms of whey protien',\n",
       " 'One should use one scoop(25  gms) after gym',\n",
       " '5  gms of creatinine is sufficient',\n",
       " '2 scoops of whey is = 45 gms of protin',\n",
       " 'There are more than 5 brands that sell whey',\n",
       " 'There is still stigma around using supplements']"
      ]
     },
     "execution_count": 34,
     "metadata": {},
     "output_type": "execute_result"
    }
   ],
   "source": [
    "rep2=[re.sub(r'[gm][gm][s]',' gms',i) for i in rep1]\n",
    "rep2"
   ]
  },
  {
   "cell_type": "code",
   "execution_count": 35,
   "metadata": {},
   "outputs": [
    {
     "data": {
      "text/html": [
       "<div>\n",
       "<style scoped>\n",
       "    .dataframe tbody tr th:only-of-type {\n",
       "        vertical-align: middle;\n",
       "    }\n",
       "\n",
       "    .dataframe tbody tr th {\n",
       "        vertical-align: top;\n",
       "    }\n",
       "\n",
       "    .dataframe thead th {\n",
       "        text-align: right;\n",
       "    }\n",
       "</style>\n",
       "<table border=\"1\" class=\"dataframe\">\n",
       "  <thead>\n",
       "    <tr style=\"text-align: right;\">\n",
       "      <th></th>\n",
       "      <th>Text</th>\n",
       "      <th>Text2</th>\n",
       "      <th>Text3</th>\n",
       "    </tr>\n",
       "  </thead>\n",
       "  <tbody>\n",
       "    <tr>\n",
       "      <th>0</th>\n",
       "      <td>70 gm of whey protien</td>\n",
       "      <td>70 gms of whey protien</td>\n",
       "      <td>70  gms of whey protien</td>\n",
       "    </tr>\n",
       "    <tr>\n",
       "      <th>1</th>\n",
       "      <td>One should use one scoop(25 gms) after gym</td>\n",
       "      <td>One should use one scoop(25 gms) after gym</td>\n",
       "      <td>One should use one scoop(25  gms) after gym</td>\n",
       "    </tr>\n",
       "    <tr>\n",
       "      <th>2</th>\n",
       "      <td>5 gm of creatinine is sufficient</td>\n",
       "      <td>5 gms of creatinine is sufficient</td>\n",
       "      <td>5  gms of creatinine is sufficient</td>\n",
       "    </tr>\n",
       "    <tr>\n",
       "      <th>3</th>\n",
       "      <td>2 scoops of whey is =45gm of protin</td>\n",
       "      <td>2 scoops of whey is =45gm of protin</td>\n",
       "      <td>2 scoops of whey is = 45 gms of protin</td>\n",
       "    </tr>\n",
       "    <tr>\n",
       "      <th>4</th>\n",
       "      <td>There are more than 5 brands that sell whey</td>\n",
       "      <td>There are more than 5 brands that sell whey</td>\n",
       "      <td>There are more than 5 brands that sell whey</td>\n",
       "    </tr>\n",
       "    <tr>\n",
       "      <th>5</th>\n",
       "      <td>There is still stigma around using supplements</td>\n",
       "      <td>There is still stigma around using supplements</td>\n",
       "      <td>There is still stigma around using supplements</td>\n",
       "    </tr>\n",
       "  </tbody>\n",
       "</table>\n",
       "</div>"
      ],
      "text/plain": [
       "                                             Text  \\\n",
       "0                           70 gm of whey protien   \n",
       "1      One should use one scoop(25 gms) after gym   \n",
       "2                5 gm of creatinine is sufficient   \n",
       "3             2 scoops of whey is =45gm of protin   \n",
       "4     There are more than 5 brands that sell whey   \n",
       "5  There is still stigma around using supplements   \n",
       "\n",
       "                                            Text2  \\\n",
       "0                          70 gms of whey protien   \n",
       "1      One should use one scoop(25 gms) after gym   \n",
       "2               5 gms of creatinine is sufficient   \n",
       "3             2 scoops of whey is =45gm of protin   \n",
       "4     There are more than 5 brands that sell whey   \n",
       "5  There is still stigma around using supplements   \n",
       "\n",
       "                                            Text3  \n",
       "0                         70  gms of whey protien  \n",
       "1     One should use one scoop(25  gms) after gym  \n",
       "2              5  gms of creatinine is sufficient  \n",
       "3          2 scoops of whey is = 45 gms of protin  \n",
       "4     There are more than 5 brands that sell whey  \n",
       "5  There is still stigma around using supplements  "
      ]
     },
     "execution_count": 35,
     "metadata": {},
     "output_type": "execute_result"
    }
   ],
   "source": [
    "df1['Text3']=rep2\n",
    "df1\n",
    "# So all 'gm' have been replaced with gms"
   ]
  },
  {
   "cell_type": "code",
   "execution_count": 36,
   "metadata": {},
   "outputs": [
    {
     "data": {
      "text/html": [
       "<div>\n",
       "<style scoped>\n",
       "    .dataframe tbody tr th:only-of-type {\n",
       "        vertical-align: middle;\n",
       "    }\n",
       "\n",
       "    .dataframe tbody tr th {\n",
       "        vertical-align: top;\n",
       "    }\n",
       "\n",
       "    .dataframe thead th {\n",
       "        text-align: right;\n",
       "    }\n",
       "</style>\n",
       "<table border=\"1\" class=\"dataframe\">\n",
       "  <thead>\n",
       "    <tr style=\"text-align: right;\">\n",
       "      <th></th>\n",
       "      <th>Text</th>\n",
       "      <th>Text4</th>\n",
       "    </tr>\n",
       "  </thead>\n",
       "  <tbody>\n",
       "    <tr>\n",
       "      <th>0</th>\n",
       "      <td>70 gm of whey protien</td>\n",
       "      <td>70  gms of whey protien</td>\n",
       "    </tr>\n",
       "    <tr>\n",
       "      <th>1</th>\n",
       "      <td>One should use one scoop(25 gms) after gym</td>\n",
       "      <td>One should use one scoop(25  gms) after gym</td>\n",
       "    </tr>\n",
       "    <tr>\n",
       "      <th>2</th>\n",
       "      <td>5 gm of creatinine is sufficient</td>\n",
       "      <td>5  gms of creatinine is sufficient</td>\n",
       "    </tr>\n",
       "    <tr>\n",
       "      <th>3</th>\n",
       "      <td>2 scoops of whey is =45gm of protin</td>\n",
       "      <td>2 scoops of whey is = 45 gms of protein</td>\n",
       "    </tr>\n",
       "    <tr>\n",
       "      <th>4</th>\n",
       "      <td>There are more than 5 brands that sell whey</td>\n",
       "      <td>There are more than 5 brands that sell whey</td>\n",
       "    </tr>\n",
       "    <tr>\n",
       "      <th>5</th>\n",
       "      <td>There is still stigma around using supplements</td>\n",
       "      <td>There is still stigma around using supplements</td>\n",
       "    </tr>\n",
       "  </tbody>\n",
       "</table>\n",
       "</div>"
      ],
      "text/plain": [
       "                                             Text  \\\n",
       "0                           70 gm of whey protien   \n",
       "1      One should use one scoop(25 gms) after gym   \n",
       "2                5 gm of creatinine is sufficient   \n",
       "3             2 scoops of whey is =45gm of protin   \n",
       "4     There are more than 5 brands that sell whey   \n",
       "5  There is still stigma around using supplements   \n",
       "\n",
       "                                            Text4  \n",
       "0                         70  gms of whey protien  \n",
       "1     One should use one scoop(25  gms) after gym  \n",
       "2              5  gms of creatinine is sufficient  \n",
       "3         2 scoops of whey is = 45 gms of protein  \n",
       "4     There are more than 5 brands that sell whey  \n",
       "5  There is still stigma around using supplements  "
      ]
     },
     "execution_count": 36,
     "metadata": {},
     "output_type": "execute_result"
    }
   ],
   "source": [
    "# Lets replace protin with protein\n",
    "df1['Text4']=[re.sub(r'\\bprotin\\b','protein',i) for i in df1['Text3']]\n",
    "\n",
    "# Dropping Text2 and Text3 columns\n",
    "df1.drop('Text2',axis=1,inplace=True)\n",
    "df1.drop('Text3',axis=1,inplace=True)\n",
    "df1"
   ]
  },
  {
   "cell_type": "code",
   "execution_count": 37,
   "metadata": {},
   "outputs": [
    {
     "data": {
      "text/plain": [
       "[['70  gms'], ['25  gms'], ['5  gms'], ['45 gms'], [], []]"
      ]
     },
     "execution_count": 37,
     "metadata": {},
     "output_type": "execute_result"
    }
   ],
   "source": [
    "# Extract the weight in gms from each row of 'Text'\n",
    "\n",
    "wt=[re.findall(r\"\\d+\\s\\s\\bgms\\b|\\d+\\s\\bgms\\b\", i) for i in df1['Text4']]\n",
    "wt"
   ]
  },
  {
   "cell_type": "code",
   "execution_count": 38,
   "metadata": {},
   "outputs": [
    {
     "data": {
      "text/plain": [
       "[['70  gms'], ['25  gms'], ['5  gms'], ['45 gms'], 'NA', 'NA']"
      ]
     },
     "execution_count": 38,
     "metadata": {},
     "output_type": "execute_result"
    }
   ],
   "source": [
    "z=[]\n",
    "for i in wt:\n",
    "    if len(i)==0:\n",
    "        z.append('NA')\n",
    "    else:\n",
    "        z.append(i)\n",
    "z  "
   ]
  },
  {
   "cell_type": "code",
   "execution_count": 39,
   "metadata": {},
   "outputs": [
    {
     "data": {
      "text/plain": [
       "['70  gms', '25  gms', '5  gms', '45 gms', 'NA', 'NA']"
      ]
     },
     "execution_count": 39,
     "metadata": {},
     "output_type": "execute_result"
    }
   ],
   "source": [
    "# Unlisting of wt\n",
    "z3=[]\n",
    "for i in z:\n",
    "   if type(i) is list:\n",
    "    z3.append(i[0])\n",
    "   else:\n",
    "    z3.append(i)\n",
    "z3\n"
   ]
  },
  {
   "cell_type": "code",
   "execution_count": 40,
   "metadata": {},
   "outputs": [
    {
     "data": {
      "text/plain": [
       "['70', '25', '5', '45', 'NA', 'NA']"
      ]
     },
     "execution_count": 40,
     "metadata": {},
     "output_type": "execute_result"
    }
   ],
   "source": [
    "wt_final=[i.split()[0] for i in z3]\n",
    "wt_final"
   ]
  },
  {
   "cell_type": "code",
   "execution_count": 41,
   "metadata": {},
   "outputs": [
    {
     "data": {
      "text/html": [
       "<div>\n",
       "<style scoped>\n",
       "    .dataframe tbody tr th:only-of-type {\n",
       "        vertical-align: middle;\n",
       "    }\n",
       "\n",
       "    .dataframe tbody tr th {\n",
       "        vertical-align: top;\n",
       "    }\n",
       "\n",
       "    .dataframe thead th {\n",
       "        text-align: right;\n",
       "    }\n",
       "</style>\n",
       "<table border=\"1\" class=\"dataframe\">\n",
       "  <thead>\n",
       "    <tr style=\"text-align: right;\">\n",
       "      <th></th>\n",
       "      <th>Text</th>\n",
       "      <th>Text4</th>\n",
       "      <th>Weight</th>\n",
       "    </tr>\n",
       "  </thead>\n",
       "  <tbody>\n",
       "    <tr>\n",
       "      <th>0</th>\n",
       "      <td>70 gm of whey protien</td>\n",
       "      <td>70  gms of whey protien</td>\n",
       "      <td>70</td>\n",
       "    </tr>\n",
       "    <tr>\n",
       "      <th>1</th>\n",
       "      <td>One should use one scoop(25 gms) after gym</td>\n",
       "      <td>One should use one scoop(25  gms) after gym</td>\n",
       "      <td>25</td>\n",
       "    </tr>\n",
       "    <tr>\n",
       "      <th>2</th>\n",
       "      <td>5 gm of creatinine is sufficient</td>\n",
       "      <td>5  gms of creatinine is sufficient</td>\n",
       "      <td>5</td>\n",
       "    </tr>\n",
       "    <tr>\n",
       "      <th>3</th>\n",
       "      <td>2 scoops of whey is =45gm of protin</td>\n",
       "      <td>2 scoops of whey is = 45 gms of protein</td>\n",
       "      <td>45</td>\n",
       "    </tr>\n",
       "    <tr>\n",
       "      <th>4</th>\n",
       "      <td>There are more than 5 brands that sell whey</td>\n",
       "      <td>There are more than 5 brands that sell whey</td>\n",
       "      <td>NA</td>\n",
       "    </tr>\n",
       "    <tr>\n",
       "      <th>5</th>\n",
       "      <td>There is still stigma around using supplements</td>\n",
       "      <td>There is still stigma around using supplements</td>\n",
       "      <td>NA</td>\n",
       "    </tr>\n",
       "  </tbody>\n",
       "</table>\n",
       "</div>"
      ],
      "text/plain": [
       "                                             Text  \\\n",
       "0                           70 gm of whey protien   \n",
       "1      One should use one scoop(25 gms) after gym   \n",
       "2                5 gm of creatinine is sufficient   \n",
       "3             2 scoops of whey is =45gm of protin   \n",
       "4     There are more than 5 brands that sell whey   \n",
       "5  There is still stigma around using supplements   \n",
       "\n",
       "                                            Text4 Weight  \n",
       "0                         70  gms of whey protien     70  \n",
       "1     One should use one scoop(25  gms) after gym     25  \n",
       "2              5  gms of creatinine is sufficient      5  \n",
       "3         2 scoops of whey is = 45 gms of protein     45  \n",
       "4     There are more than 5 brands that sell whey     NA  \n",
       "5  There is still stigma around using supplements     NA  "
      ]
     },
     "execution_count": 41,
     "metadata": {},
     "output_type": "execute_result"
    }
   ],
   "source": [
    "# Adding the column to df1\n",
    "df1['Weight']=wt_final\n",
    "df1"
   ]
  }
 ],
 "metadata": {
  "kernelspec": {
   "display_name": "Python 3",
   "language": "python",
   "name": "python3"
  },
  "language_info": {
   "codemirror_mode": {
    "name": "ipython",
    "version": 3
   },
   "file_extension": ".py",
   "mimetype": "text/x-python",
   "name": "python",
   "nbconvert_exporter": "python",
   "pygments_lexer": "ipython3",
   "version": "3.7.1"
  }
 },
 "nbformat": 4,
 "nbformat_minor": 2
}

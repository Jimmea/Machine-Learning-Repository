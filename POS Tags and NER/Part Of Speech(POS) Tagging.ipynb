{
 "cells": [
  {
   "cell_type": "code",
   "execution_count": 2,
   "metadata": {},
   "outputs": [],
   "source": [
    "# Importing the libraries\n",
    "import nltk\n",
    "import pandas as pd\n",
    "import numpy as np"
   ]
  },
  {
   "cell_type": "code",
   "execution_count": 426,
   "metadata": {},
   "outputs": [],
   "source": [
    "# Using some sample text data\n",
    "txt='The Opposition parties will run to a blank wall. Modi will give then a run for their money'"
   ]
  },
  {
   "cell_type": "code",
   "execution_count": 429,
   "metadata": {},
   "outputs": [
    {
     "name": "stdout",
     "output_type": "stream",
     "text": [
      "['The', 'Opposition', 'parties', 'will', 'run', 'to', 'a', 'blank', 'wall', '.', 'Modi', 'will', 'give', 'then', 'a', 'run', 'for', 'their', 'money']\n"
     ]
    }
   ],
   "source": [
    "# Tokenize\n",
    "wordsList = nltk.word_tokenize(txt)\n",
    "print(wordsList)\n",
    "# Now we need to identify what is the part of speech for each tokenised part\n"
   ]
  },
  {
   "cell_type": "code",
   "execution_count": 420,
   "metadata": {},
   "outputs": [
    {
     "name": "stdout",
     "output_type": "stream",
     "text": [
      "[('The', 'DT'), ('Opposition', 'NNP'), ('parties', 'NNS'), ('will', 'MD'), ('run', 'VB'), ('to', 'TO'), ('a', 'DT'), ('blank', 'NN'), ('wall', 'NN'), ('.', '.'), ('Modi', 'NNP'), ('will', 'MD'), ('give', 'VB'), ('then', 'RB'), ('a', 'DT'), ('run', 'NN'), ('for', 'IN'), ('their', 'PRP$'), ('money', 'NN')]\n"
     ]
    }
   ],
   "source": [
    "# extracting the pos tags\n",
    "tagged = nltk.pos_tag(wordsList)\n",
    "print(tagged)\n"
   ]
  },
  {
   "cell_type": "code",
   "execution_count": 431,
   "metadata": {},
   "outputs": [
    {
     "name": "stdout",
     "output_type": "stream",
     "text": [
      "[('The', 'DT'), ('Opposition', 'NNP'), ('parties', 'NNS'), ('will', 'MD'), ('run', 'VB'), ('to', 'TO'), ('a', 'DT'), ('blank', 'NN'), ('wall', 'NN'), ('.', '.'), ('Modi', 'NNP'), ('will', 'MD'), ('give', 'VB'), ('then', 'RB'), ('a', 'DT'), ('run', 'NN'), ('for', 'IN'), ('their', 'PRP$'), ('money', 'NN')]\n"
     ]
    }
   ],
   "source": [
    "tagged_ls = nltk.pos_tag(wordsList)\n",
    "print(tagged_ls)"
   ]
  },
  {
   "cell_type": "code",
   "execution_count": null,
   "metadata": {},
   "outputs": [],
   "source": [
    "# we can see that the word 'run' appears twice\n",
    "# 1: As a VB (Verb)\n",
    "# 2: As a NN (Noun)\n",
    "# Such pair of words are known as homographs"
   ]
  },
  {
   "cell_type": "code",
   "execution_count": 424,
   "metadata": {},
   "outputs": [
    {
     "data": {
      "text/plain": [
       "['dashing', 'personality']"
      ]
     },
     "execution_count": 424,
     "metadata": {},
     "output_type": "execute_result"
    }
   ],
   "source": [
    "# Extracting the key entity (Basically the Noun)\n",
    "new_list = [i[0] for i in tagged_ls if ((i[1]=='NNP') | (i[1]=='NNPS' ) | (i[1]=='NN') | (i[1]=='NNS')) ]\n",
    "new_list\n",
    "\n",
    "# NN: Noun (singular)\n",
    "# NNS: Noun (plural)\n",
    "# NNP: Noun (Proper Noun)\n",
    "# NNPS: Proper Noun (plural)"
   ]
  },
  {
   "cell_type": "code",
   "execution_count": 432,
   "metadata": {},
   "outputs": [
    {
     "data": {
      "text/plain": [
       "['Opposition', 'Modi']"
      ]
     },
     "execution_count": 432,
     "metadata": {},
     "output_type": "execute_result"
    }
   ],
   "source": [
    "# Extracting Proper Nouns\n",
    "new_list = [i[0] for i in tagged_ls if i[1]=='NNP']\n",
    "new_list\n",
    "\n",
    "# Opposition and Modi"
   ]
  },
  {
   "cell_type": "markdown",
   "metadata": {},
   "source": [
    "****There are text corpus in NLTK library which are pre-tagged. \n",
    "We will try and analyze one such corpora****"
   ]
  },
  {
   "cell_type": "code",
   "execution_count": 60,
   "metadata": {},
   "outputs": [
    {
     "data": {
      "text/plain": [
       "[('The', 'AT'), ('Fulton', 'NP-TL'), ...]"
      ]
     },
     "execution_count": 60,
     "metadata": {},
     "output_type": "execute_result"
    }
   ],
   "source": [
    "# Reading tagged Corpora\n",
    "# brown bag corpora in nltk is tagged\n",
    "# Taken from : https://www.nltk.org/book/ch05.html\n",
    "nltk.corpus.brown.tagged_words()"
   ]
  },
  {
   "cell_type": "code",
   "execution_count": 61,
   "metadata": {},
   "outputs": [
    {
     "data": {
      "text/plain": [
       "[('The', 'DET'), ('Fulton', 'NOUN'), ...]"
      ]
     },
     "execution_count": 61,
     "metadata": {},
     "output_type": "execute_result"
    }
   ],
   "source": [
    "nltk.corpus.brown.tagged_words(tagset='universal')\n",
    "# Tagset argument has been provided a value of 'universal'\n",
    "# This causes pos tags to not apper in the abbreviated form\n",
    "# For instance, in the output we see that 'The' is tagged as 'DET'(Determiner)\n",
    "# and 'Fulton' is tagged as 'NOUN'"
   ]
  },
  {
   "cell_type": "code",
   "execution_count": 62,
   "metadata": {},
   "outputs": [
    {
     "data": {
      "text/plain": [
       "[('NOUN', 30654),\n",
       " ('VERB', 14399),\n",
       " ('ADP', 12355),\n",
       " ('.', 11928),\n",
       " ('DET', 11389),\n",
       " ('ADJ', 6706),\n",
       " ('ADV', 3349),\n",
       " ('CONJ', 2717),\n",
       " ('PRON', 2535),\n",
       " ('PRT', 2264),\n",
       " ('NUM', 2166),\n",
       " ('X', 92)]"
      ]
     },
     "execution_count": 62,
     "metadata": {},
     "output_type": "execute_result"
    }
   ],
   "source": [
    "# Let us look at the Frequency Distributon of brown bag corpora\n",
    "from nltk.corpus import brown\n",
    "brown_news_tagged = brown.tagged_words(categories='news', tagset='universal')\n",
    "tag_fd = nltk.FreqDist(tag for (word, tag) in brown_news_tagged)\n",
    "tag_fd.most_common()\n",
    "\n",
    "# We can see that most of the words are Noun followed by Verb\n",
    "# X represents category that is exclusive of the ones mentioned below"
   ]
  },
  {
   "cell_type": "markdown",
   "metadata": {},
   "source": [
    "## Let us now try and analyze a text corpus which is related to Indian Prime Minister Narendra Modi .It is a sort of short summary about his background and political journey\n",
    "<br>\n"
   ]
  },
  {
   "cell_type": "code",
   "execution_count": 3,
   "metadata": {},
   "outputs": [
    {
     "data": {
      "text/html": [
       "<div>\n",
       "<style scoped>\n",
       "    .dataframe tbody tr th:only-of-type {\n",
       "        vertical-align: middle;\n",
       "    }\n",
       "\n",
       "    .dataframe tbody tr th {\n",
       "        vertical-align: top;\n",
       "    }\n",
       "\n",
       "    .dataframe thead th {\n",
       "        text-align: right;\n",
       "    }\n",
       "</style>\n",
       "<table border=\"1\" class=\"dataframe\">\n",
       "  <thead>\n",
       "    <tr style=\"text-align: right;\">\n",
       "      <th></th>\n",
       "      <th>Text</th>\n",
       "    </tr>\n",
       "  </thead>\n",
       "  <tbody>\n",
       "    <tr>\n",
       "      <th>0</th>\n",
       "      <td>Narendra Modi, in full Narendra Damodardas Mod...</td>\n",
       "    </tr>\n",
       "    <tr>\n",
       "      <th>1</th>\n",
       "      <td>Modi was raised in a small town in northern Gu...</td>\n",
       "    </tr>\n",
       "    <tr>\n",
       "      <th>2</th>\n",
       "      <td>Modi joined the BJP in 1987, and a year later ...</td>\n",
       "    </tr>\n",
       "    <tr>\n",
       "      <th>3</th>\n",
       "      <td>In 1995 Modi was made the secretary of the BJP...</td>\n",
       "    </tr>\n",
       "    <tr>\n",
       "      <th>4</th>\n",
       "      <td>Modi’s political career thereafter remained a ...</td>\n",
       "    </tr>\n",
       "  </tbody>\n",
       "</table>\n",
       "</div>"
      ],
      "text/plain": [
       "                                                Text\n",
       "0  Narendra Modi, in full Narendra Damodardas Mod...\n",
       "1  Modi was raised in a small town in northern Gu...\n",
       "2  Modi joined the BJP in 1987, and a year later ...\n",
       "3  In 1995 Modi was made the secretary of the BJP...\n",
       "4  Modi’s political career thereafter remained a ..."
      ]
     },
     "execution_count": 3,
     "metadata": {},
     "output_type": "execute_result"
    }
   ],
   "source": [
    "# The text data about Mr Modi taken from the following link\n",
    "# Link: https://www.britannica.com/biography/Narendra-Modi\n",
    "# I have dumped the text data in the csv file by the name 'text_file.csv'\n",
    "# The file will be available for download along with the blog\n",
    "# We will try to draw some summary in the light of POS tags and NER\n",
    "\n",
    "dr=\"C:\\\\NLP in Python\\\\POS Tags\"\n",
    "path=dr+\"\\\\text_file.csv\"\n",
    "\n",
    "df=pd.read_csv(dr+\"\\\\text_file.csv\",encoding='windows-1252')\n",
    "df.head()"
   ]
  },
  {
   "cell_type": "code",
   "execution_count": null,
   "metadata": {},
   "outputs": [],
   "source": [
    "# Let us now try and perform the following tasks\n",
    "# Task 1: Identify key entities from the text\n",
    "# Task 2: For the key entities identify the adjectives used in the text\n"
   ]
  },
  {
   "cell_type": "markdown",
   "metadata": {},
   "source": [
    "# Task 1: Identify key entities from the text\n",
    "<br>\n"
   ]
  },
  {
   "cell_type": "code",
   "execution_count": 4,
   "metadata": {},
   "outputs": [
    {
     "data": {
      "text/plain": [
       "(10, 1)"
      ]
     },
     "execution_count": 4,
     "metadata": {},
     "output_type": "execute_result"
    }
   ],
   "source": [
    "df.shape\n",
    "# the data set has 10 records"
   ]
  },
  {
   "cell_type": "code",
   "execution_count": 5,
   "metadata": {},
   "outputs": [
    {
     "name": "stdout",
     "output_type": "stream",
     "text": [
      "['Narendra', 'Modi', ',', 'in', 'full', 'Narendra', 'Damodardas', 'Modi', ',', '(', 'born', 'September', '17', ',', '1950', ',', 'Vadnagar', ',', 'India', ')', ',', 'Indian', 'politician', 'and', 'government', 'official', 'who', 'rose', 'to', 'become', 'a', 'senior', 'leader', 'of', 'the', 'Bharatiya', 'Janata', 'Party', '(', 'BJP', ')', '.', 'In', '2014', 'he', 'led', 'his', 'party', 'to', 'victory', 'in', 'elections', 'to', 'the', 'Lok', 'Sabha', '(', 'lower', 'chamber', 'of', 'the', 'Indian', 'parliament', ')', ',', 'after', 'which', 'he', 'was', 'sworn', 'in', 'as', 'prime', 'minister', 'of', 'India', '.', 'Prior', 'to', 'that', 'he', 'had', 'served', '(', '2001–14', ')', 'as', 'chief', 'minister', '(', 'head', 'of', 'government', ')', 'of', 'Gujarat', 'state', 'in', 'western', 'India', '.']\n"
     ]
    }
   ],
   "source": [
    "# Lets get the pos tags for the first row\n",
    "# Tokenize\n",
    "\n",
    "l1=[]\n",
    "\n",
    "for i in df['Text']:\n",
    "    l1.append(str(i))\n",
    "\n",
    "\n",
    "l2=[]\n",
    "\n",
    "for j in l1:\n",
    "    l2.append(nltk.word_tokenize(j))\n",
    "    \n",
    "\n",
    "print(l2[0])# gives the tokenized form for the first row of the data set\n"
   ]
  },
  {
   "cell_type": "code",
   "execution_count": 6,
   "metadata": {},
   "outputs": [
    {
     "data": {
      "text/plain": [
       "[('Narendra', 'NNP'),\n",
       " ('Modi', 'NNP'),\n",
       " (',', ','),\n",
       " ('in', 'IN'),\n",
       " ('full', 'JJ')]"
      ]
     },
     "execution_count": 6,
     "metadata": {},
     "output_type": "execute_result"
    }
   ],
   "source": [
    "# Now we need to identify what is the part of speech for each tokenised part\n",
    "\n",
    "l3=[nltk.pos_tag(i) for i in l2]\n",
    "#tagged = nltk.pos_tag(l2)\n",
    "l3[0][0:5]\n"
   ]
  },
  {
   "cell_type": "code",
   "execution_count": 7,
   "metadata": {},
   "outputs": [
    {
     "name": "stdout",
     "output_type": "stream",
     "text": [
      "[['Narendra', 'Modi', 'Narendra', 'Damodardas', 'Modi', 'September', 'Vadnagar', 'India', 'Bharatiya', 'Janata', 'Party', 'BJP', 'Lok', 'Sabha', 'Indian', 'India', 'Prior', 'Gujarat', 'India'], ['Modi', 'Gujarat', 'M.A', 'Gujarat', 'University', 'Ahmadabad', 'Rashtriya', 'Swayamsevak', 'Sangh', 'RSS', 'RSS', '’', 'Akhil', 'Bharatiya', 'Vidyarthi', 'Parishad', 'Modi', 'RSS'], ['Modi', 'BJP', 'Gujarat', '’', 'Modi', 'BJP', 'BJP', 'March', 'India', 'BJP', '’', 'September'], ['Modi', 'BJP', '’', 'New', 'Delhi', 'October', 'Gujarat', 'BJP', 'Keshubhai', 'Patel', 'Patel', '’', 'Bhuj', 'Gujarat', 'Modi', 'February', 'Gujarat'], ['Modi', '’', 'Gujarat', 'Muslims', 'Hindu', 'Godhra', 'United', 'United', 'Kingdom', 'Modi', 'Modi', '’', 'Lashkar-e-Taiba', 'Mumbai', 'Modi'], ['Modi', '’', 'Gujarat', 'BJP', 'BJP', 'December', 'Modi', 'Gujarat', 'BJP', 'Modi'], ['Gujarat', 'Modi', '’', '’', 'Modi', '’', 'India', 'June', 'Modi', 'BJP', '’', 'Lok', 'Sabha'], ['Modi', 'India', '’', 'BJP', 'Modi', 'May', 'India', '’', 'Modi', 'Chinese', 'President', 'Xi', 'Jinping', 'India', 'U.S.', 'Modi', 'New', 'York', 'City', 'U.S.', 'Pres', 'Barack', 'Obama'], ['Modi', 'Hindu', 'Hindus', '“', 'Goods', 'Tax', 'GST', 'GDP', '’'], ['BJP', 'BJP', 'Madhya', 'Pradesh', 'Rajasthan', 'Chhattisgarh', 'National', 'Congress', 'Congress', 'Party', 'BJP', 'Modi', 'BJP', 'Modi', '’', 'Jammu', 'Kashmir', 'February', 'Pakistan', 'Modi', '’', 'BJP', 'Rahul', 'Gandhi', 'Congress—the', 'BJP', 'Modi', 'India', '’', 'Congress', 'Party']]\n"
     ]
    }
   ],
   "source": [
    "# Elements in l3 are tokenized words from each paragraph\n",
    "# Lets look at NNP words from each paragraph\n",
    "key_entities=[]\n",
    "\n",
    "for i in l3:\n",
    "    l1=[]\n",
    "    for j in i:\n",
    "        if j[1]=='NNP':\n",
    "            l1.append(j[0])\n",
    "        \n",
    "    key_entities.append(l1)\n",
    "\n",
    "print(key_entities)"
   ]
  },
  {
   "cell_type": "code",
   "execution_count": 9,
   "metadata": {},
   "outputs": [
    {
     "name": "stdout",
     "output_type": "stream",
     "text": [
      "['Narendra', 'Modi', 'Damodardas', 'September', 'Vadnagar', 'India', 'Bharatiya', 'Janata', 'Party', 'BJP', 'Lok', 'Sabha', 'Indian', 'Prior', 'Gujarat', 'Modi', 'Gujarat', 'M.A', 'University', 'Ahmadabad', 'Rashtriya', 'Swayamsevak', 'Sangh', 'RSS', '’', 'Akhil', 'Bharatiya', 'Vidyarthi', 'Parishad', 'Modi', 'BJP', 'Gujarat', '’', 'March', 'India', 'September', 'Modi', 'BJP', '’', 'New', 'Delhi', 'October', 'Gujarat', 'Keshubhai', 'Patel', 'Bhuj', 'February', 'Modi', '’', 'Gujarat', 'Muslims', 'Hindu', 'Godhra', 'United', 'Kingdom', 'Lashkar-e-Taiba', 'Mumbai', 'Modi', '’', 'Gujarat', 'BJP', 'December', 'Gujarat', 'Modi', '’', 'India', 'June', 'BJP', 'Lok', 'Sabha', 'Modi', 'India', '’', 'BJP', 'May', 'Chinese', 'President', 'Xi', 'Jinping', 'U.S.', 'New', 'York', 'City', 'Pres', 'Barack', 'Obama', 'Modi', 'Hindu', 'Hindus', '“', 'Goods', 'Tax', 'GST', 'GDP', '’', 'BJP', 'Madhya', 'Pradesh', 'Rajasthan', 'Chhattisgarh', 'National', 'Congress', 'Party', 'Modi', '’', 'Jammu', 'Kashmir', 'February', 'Pakistan', 'Rahul', 'Gandhi', 'Congress—the', 'India']\n"
     ]
    }
   ],
   "source": [
    "# Lets look at the Frequency Distribution\n",
    "# Storing the key entities\n",
    "\n",
    "key_entities_freq=[nltk.FreqDist(i) for i in key_entities]\n",
    "\n",
    "# Storing the keys\n",
    "keys0=[]\n",
    "\n",
    "for j in key_entities_freq:\n",
    "    keys1=[]\n",
    "    for k in j:\n",
    "        keys0.append(k)\n",
    "        \n",
    "    \n",
    "    \n",
    "len(keys0) # 113\n",
    "print(keys0)"
   ]
  },
  {
   "cell_type": "code",
   "execution_count": 10,
   "metadata": {},
   "outputs": [
    {
     "name": "stdout",
     "output_type": "stream",
     "text": [
      "[2, 2, 1, 1, 1, 3, 1, 1, 1, 1, 1, 1, 1, 1, 1, 2, 2, 1, 1, 1, 1, 1, 1, 3, 1, 1, 1, 1, 1, 2, 4, 1, 2, 1, 1, 1, 2, 2, 2, 1, 1, 1, 3, 1, 2, 1, 1, 4, 2, 1, 1, 1, 1, 2, 1, 1, 1, 3, 1, 2, 3, 1, 1, 3, 4, 1, 1, 1, 1, 1, 4, 3, 2, 1, 1, 1, 1, 1, 1, 2, 1, 1, 1, 1, 1, 1, 1, 1, 1, 1, 1, 1, 1, 1, 1, 6, 1, 1, 1, 1, 1, 3, 2, 4, 3, 1, 1, 1, 1, 1, 1, 1, 1]\n"
     ]
    }
   ],
   "source": [
    "# Storing the Frequency values\n",
    "val0=[]\n",
    "key_entities_freq\n",
    "\n",
    "val0=[list(i.values()) for i in key_entities_freq]\n",
    "val1=[]\n",
    "\n",
    "for i in val0:\n",
    "    for j in i:\n",
    "        val1.append(j)\n",
    "    \n",
    "len(val1) # 113\n",
    "print(val1)"
   ]
  },
  {
   "cell_type": "code",
   "execution_count": 12,
   "metadata": {},
   "outputs": [
    {
     "name": "stdout",
     "output_type": "stream",
     "text": [
      "[1, 1, 1, 1, 1, 1, 1, 1, 1, 1, 1, 1, 1, 1, 1, 2, 2, 2, 2, 2, 2, 2, 2, 2, 2, 2, 2, 2, 2, 3, 3, 3, 3, 3, 3, 3, 4, 4, 4, 4, 4, 4, 4, 4, 4, 4, 4, 5, 5, 5, 5, 5, 5, 5, 5, 5, 5, 6, 6, 6, 6, 6, 7, 7, 7, 7, 7, 7, 7, 7, 8, 8, 8, 8, 8, 8, 8, 8, 8, 8, 8, 8, 8, 8, 8, 8, 9, 9, 9, 9, 9, 9, 9, 9, 9, 10, 10, 10, 10, 10, 10, 10, 10, 10, 10, 10, 10, 10, 10, 10, 10, 10, 10]\n"
     ]
    }
   ],
   "source": [
    "# Storing the paragraph number\n",
    "indx=[]\n",
    "for i in val0:\n",
    "    for j in i:\n",
    "        indx.append(val0.index(i)+1)\n",
    "len(indx)  # 113\n",
    "print(indx)"
   ]
  },
  {
   "cell_type": "code",
   "execution_count": 240,
   "metadata": {},
   "outputs": [
    {
     "data": {
      "text/html": [
       "<div>\n",
       "<style scoped>\n",
       "    .dataframe tbody tr th:only-of-type {\n",
       "        vertical-align: middle;\n",
       "    }\n",
       "\n",
       "    .dataframe tbody tr th {\n",
       "        vertical-align: top;\n",
       "    }\n",
       "\n",
       "    .dataframe thead th {\n",
       "        text-align: right;\n",
       "    }\n",
       "</style>\n",
       "<table border=\"1\" class=\"dataframe\">\n",
       "  <thead>\n",
       "    <tr style=\"text-align: right;\">\n",
       "      <th></th>\n",
       "      <th>Paragraph</th>\n",
       "      <th>Keywords</th>\n",
       "      <th>Freq</th>\n",
       "    </tr>\n",
       "  </thead>\n",
       "  <tbody>\n",
       "    <tr>\n",
       "      <th>0</th>\n",
       "      <td>1</td>\n",
       "      <td>Narendra</td>\n",
       "      <td>2</td>\n",
       "    </tr>\n",
       "    <tr>\n",
       "      <th>1</th>\n",
       "      <td>1</td>\n",
       "      <td>Modi</td>\n",
       "      <td>2</td>\n",
       "    </tr>\n",
       "    <tr>\n",
       "      <th>2</th>\n",
       "      <td>1</td>\n",
       "      <td>Damodardas</td>\n",
       "      <td>1</td>\n",
       "    </tr>\n",
       "    <tr>\n",
       "      <th>3</th>\n",
       "      <td>1</td>\n",
       "      <td>September</td>\n",
       "      <td>1</td>\n",
       "    </tr>\n",
       "    <tr>\n",
       "      <th>4</th>\n",
       "      <td>1</td>\n",
       "      <td>Vadnagar</td>\n",
       "      <td>1</td>\n",
       "    </tr>\n",
       "  </tbody>\n",
       "</table>\n",
       "</div>"
      ],
      "text/plain": [
       "   Paragraph    Keywords  Freq\n",
       "0          1    Narendra     2\n",
       "1          1        Modi     2\n",
       "2          1  Damodardas     1\n",
       "3          1   September     1\n",
       "4          1    Vadnagar     1"
      ]
     },
     "execution_count": 240,
     "metadata": {},
     "output_type": "execute_result"
    }
   ],
   "source": [
    "# Combining indx, keys0 and val1\n",
    "\n",
    "df_indx=pd.DataFrame(indx,columns=['Paragraph'])\n",
    "df_indx['Keywords']=keys0\n",
    "df_indx['Freq']=val1\n",
    "df_indx\n",
    "\n",
    "# remving the punctuations from 'Keywords'\n",
    "pos=[i not in \"’\" for i in df_indx['Keywords']]\n",
    "df_indx_new=df_indx[pos]\n",
    "df_indx_new.head()"
   ]
  },
  {
   "cell_type": "code",
   "execution_count": 413,
   "metadata": {},
   "outputs": [
    {
     "data": {
      "text/html": [
       "<div>\n",
       "<style scoped>\n",
       "    .dataframe tbody tr th:only-of-type {\n",
       "        vertical-align: middle;\n",
       "    }\n",
       "\n",
       "    .dataframe tbody tr th {\n",
       "        vertical-align: top;\n",
       "    }\n",
       "\n",
       "    .dataframe thead th {\n",
       "        text-align: right;\n",
       "    }\n",
       "</style>\n",
       "<table border=\"1\" class=\"dataframe\">\n",
       "  <thead>\n",
       "    <tr style=\"text-align: right;\">\n",
       "      <th></th>\n",
       "      <th>Paragraph</th>\n",
       "      <th>Keywords</th>\n",
       "      <th>Freq</th>\n",
       "    </tr>\n",
       "  </thead>\n",
       "  <tbody>\n",
       "    <tr>\n",
       "      <th>5</th>\n",
       "      <td>1</td>\n",
       "      <td>India</td>\n",
       "      <td>3</td>\n",
       "    </tr>\n",
       "    <tr>\n",
       "      <th>0</th>\n",
       "      <td>1</td>\n",
       "      <td>Narendra</td>\n",
       "      <td>2</td>\n",
       "    </tr>\n",
       "    <tr>\n",
       "      <th>23</th>\n",
       "      <td>2</td>\n",
       "      <td>RSS</td>\n",
       "      <td>3</td>\n",
       "    </tr>\n",
       "    <tr>\n",
       "      <th>15</th>\n",
       "      <td>2</td>\n",
       "      <td>Modi</td>\n",
       "      <td>2</td>\n",
       "    </tr>\n",
       "    <tr>\n",
       "      <th>30</th>\n",
       "      <td>3</td>\n",
       "      <td>BJP</td>\n",
       "      <td>4</td>\n",
       "    </tr>\n",
       "    <tr>\n",
       "      <th>29</th>\n",
       "      <td>3</td>\n",
       "      <td>Modi</td>\n",
       "      <td>2</td>\n",
       "    </tr>\n",
       "    <tr>\n",
       "      <th>42</th>\n",
       "      <td>4</td>\n",
       "      <td>Gujarat</td>\n",
       "      <td>3</td>\n",
       "    </tr>\n",
       "    <tr>\n",
       "      <th>36</th>\n",
       "      <td>4</td>\n",
       "      <td>Modi</td>\n",
       "      <td>2</td>\n",
       "    </tr>\n",
       "    <tr>\n",
       "      <th>47</th>\n",
       "      <td>5</td>\n",
       "      <td>Modi</td>\n",
       "      <td>4</td>\n",
       "    </tr>\n",
       "    <tr>\n",
       "      <th>53</th>\n",
       "      <td>5</td>\n",
       "      <td>United</td>\n",
       "      <td>2</td>\n",
       "    </tr>\n",
       "    <tr>\n",
       "      <th>57</th>\n",
       "      <td>6</td>\n",
       "      <td>Modi</td>\n",
       "      <td>3</td>\n",
       "    </tr>\n",
       "    <tr>\n",
       "      <th>60</th>\n",
       "      <td>6</td>\n",
       "      <td>BJP</td>\n",
       "      <td>3</td>\n",
       "    </tr>\n",
       "    <tr>\n",
       "      <th>63</th>\n",
       "      <td>7</td>\n",
       "      <td>Modi</td>\n",
       "      <td>3</td>\n",
       "    </tr>\n",
       "    <tr>\n",
       "      <th>62</th>\n",
       "      <td>7</td>\n",
       "      <td>Gujarat</td>\n",
       "      <td>1</td>\n",
       "    </tr>\n",
       "    <tr>\n",
       "      <th>70</th>\n",
       "      <td>8</td>\n",
       "      <td>Modi</td>\n",
       "      <td>4</td>\n",
       "    </tr>\n",
       "    <tr>\n",
       "      <th>71</th>\n",
       "      <td>8</td>\n",
       "      <td>India</td>\n",
       "      <td>3</td>\n",
       "    </tr>\n",
       "    <tr>\n",
       "      <th>86</th>\n",
       "      <td>9</td>\n",
       "      <td>Modi</td>\n",
       "      <td>1</td>\n",
       "    </tr>\n",
       "    <tr>\n",
       "      <th>87</th>\n",
       "      <td>9</td>\n",
       "      <td>Hindu</td>\n",
       "      <td>1</td>\n",
       "    </tr>\n",
       "    <tr>\n",
       "      <th>95</th>\n",
       "      <td>10</td>\n",
       "      <td>BJP</td>\n",
       "      <td>6</td>\n",
       "    </tr>\n",
       "    <tr>\n",
       "      <th>103</th>\n",
       "      <td>10</td>\n",
       "      <td>Modi</td>\n",
       "      <td>4</td>\n",
       "    </tr>\n",
       "  </tbody>\n",
       "</table>\n",
       "</div>"
      ],
      "text/plain": [
       "     Paragraph  Keywords  Freq\n",
       "5            1     India     3\n",
       "0            1  Narendra     2\n",
       "23           2       RSS     3\n",
       "15           2      Modi     2\n",
       "30           3       BJP     4\n",
       "29           3      Modi     2\n",
       "42           4   Gujarat     3\n",
       "36           4      Modi     2\n",
       "47           5      Modi     4\n",
       "53           5    United     2\n",
       "57           6      Modi     3\n",
       "60           6       BJP     3\n",
       "63           7      Modi     3\n",
       "62           7   Gujarat     1\n",
       "70           8      Modi     4\n",
       "71           8     India     3\n",
       "86           9      Modi     1\n",
       "87           9     Hindu     1\n",
       "95          10       BJP     6\n",
       "103         10      Modi     4"
      ]
     },
     "execution_count": 413,
     "metadata": {},
     "output_type": "execute_result"
    }
   ],
   "source": [
    "df_indx_new.sort_values(['Paragraph','Freq'],ascending=[True,False]).groupby('Paragraph').head(2)"
   ]
  },
  {
   "cell_type": "code",
   "execution_count": 411,
   "metadata": {},
   "outputs": [
    {
     "data": {
      "text/html": [
       "<div>\n",
       "<style scoped>\n",
       "    .dataframe tbody tr th:only-of-type {\n",
       "        vertical-align: middle;\n",
       "    }\n",
       "\n",
       "    .dataframe tbody tr th {\n",
       "        vertical-align: top;\n",
       "    }\n",
       "\n",
       "    .dataframe thead th {\n",
       "        text-align: right;\n",
       "    }\n",
       "</style>\n",
       "<table border=\"1\" class=\"dataframe\">\n",
       "  <thead>\n",
       "    <tr style=\"text-align: right;\">\n",
       "      <th></th>\n",
       "      <th>Keywords</th>\n",
       "      <th>count</th>\n",
       "    </tr>\n",
       "  </thead>\n",
       "  <tbody>\n",
       "    <tr>\n",
       "      <th>11</th>\n",
       "      <td>Modi</td>\n",
       "      <td>10</td>\n",
       "    </tr>\n",
       "    <tr>\n",
       "      <th>4</th>\n",
       "      <td>Gujarat</td>\n",
       "      <td>6</td>\n",
       "    </tr>\n",
       "    <tr>\n",
       "      <th>0</th>\n",
       "      <td>BJP</td>\n",
       "      <td>5</td>\n",
       "    </tr>\n",
       "    <tr>\n",
       "      <th>7</th>\n",
       "      <td>India</td>\n",
       "      <td>3</td>\n",
       "    </tr>\n",
       "    <tr>\n",
       "      <th>18</th>\n",
       "      <td>United</td>\n",
       "      <td>1</td>\n",
       "    </tr>\n",
       "  </tbody>\n",
       "</table>\n",
       "</div>"
      ],
      "text/plain": [
       "   Keywords  count\n",
       "11     Modi     10\n",
       "4   Gujarat      6\n",
       "0       BJP      5\n",
       "7     India      3\n",
       "18   United      1"
      ]
     },
     "execution_count": 411,
     "metadata": {},
     "output_type": "execute_result"
    }
   ],
   "source": [
    "# Lets look at the words that are common across all the paragraphs\n",
    "keywrds=df_indx_new.sort_values(['Paragraph','Freq'],ascending=[True,False]).groupby('Paragraph').head(4)\n",
    "keywrds_df=keywrds.groupby('Keywords').size().to_frame('count').reset_index().sort_values('count',ascending=False)\n",
    "keywrds_df.head()\n",
    "\n",
    "# So we can see that Modi word appears in all paragraphs\n",
    "# It is followed by Gujarat and BJP\n",
    "# So we can clearly see that the key entity here is Modi"
   ]
  },
  {
   "cell_type": "markdown",
   "metadata": {},
   "source": [
    "****Key Entities identified are the following <br> - Modi<br> - BJP<br> - Gujarat<br> - India<br>****"
   ]
  },
  {
   "cell_type": "markdown",
   "metadata": {},
   "source": [
    "# Task 2: For the key entities identify the adjectives used in the text <br>"
   ]
  },
  {
   "cell_type": "code",
   "execution_count": 14,
   "metadata": {},
   "outputs": [],
   "source": [
    "# Since the key entities have been identified, lets now try to find adjectives for them\n",
    "# Lets now start with the adjectives used for Modi\n",
    "import string\n",
    "from string import punctuation\n",
    "from itertools import compress\n",
    "\n"
   ]
  },
  {
   "cell_type": "code",
   "execution_count": 15,
   "metadata": {},
   "outputs": [
    {
     "name": "stdout",
     "output_type": "stream",
     "text": [
      "[('Narendra', 'NNP'), ('Modi', 'NNP'), ('in', 'IN'), ('full', 'JJ'), ('Narendra', 'NNP'), ('Damodardas', 'NNP'), ('Modi', 'NNP'), ('born', 'JJ'), ('September', 'NNP'), ('17', 'CD'), ('1950', 'CD'), ('Vadnagar', 'NNP'), ('India', 'NNP'), ('Indian', 'JJ'), ('politician', 'NN'), ('and', 'CC'), ('government', 'NN'), ('official', 'NN'), ('who', 'WP'), ('rose', 'VBD'), ('to', 'TO'), ('become', 'VB'), ('a', 'DT'), ('senior', 'JJ'), ('leader', 'NN'), ('of', 'IN'), ('the', 'DT'), ('Bharatiya', 'NNP'), ('Janata', 'NNP'), ('Party', 'NNP'), ('BJP', 'NNP'), ('In', 'IN'), ('2014', 'CD'), ('he', 'PRP'), ('led', 'VBD'), ('his', 'PRP$'), ('party', 'NN'), ('to', 'TO'), ('victory', 'NN'), ('in', 'IN'), ('elections', 'NNS'), ('to', 'TO'), ('the', 'DT'), ('Lok', 'NNP'), ('Sabha', 'NNP'), ('lower', 'JJR'), ('chamber', 'NN'), ('of', 'IN'), ('the', 'DT'), ('Indian', 'NNP'), ('parliament', 'NN'), ('after', 'IN'), ('which', 'WDT'), ('he', 'PRP'), ('was', 'VBD'), ('sworn', 'VBN'), ('in', 'IN'), ('as', 'IN'), ('prime', 'JJ'), ('minister', 'NN'), ('of', 'IN'), ('India', 'NNP'), ('Prior', 'NNP'), ('to', 'TO'), ('that', 'IN'), ('he', 'PRP'), ('had', 'VBD'), ('served', 'VBN'), ('2001–14', 'CD'), ('as', 'IN'), ('chief', 'NN'), ('minister', 'NN'), ('head', 'NN'), ('of', 'IN'), ('government', 'NN'), ('of', 'IN'), ('Gujarat', 'NNP'), ('state', 'NN'), ('in', 'IN'), ('western', 'JJ'), ('India', 'NNP'), ('Modi', 'NNP'), ('was', 'VBD'), ('raised', 'VBN'), ('in', 'IN'), ('a', 'DT'), ('small', 'JJ'), ('town', 'NN'), ('in', 'IN'), ('northern', 'JJ'), ('Gujarat', 'NNP'), ('and', 'CC'), ('he', 'PRP'), ('completed', 'VBD'), ('an', 'DT'), ('M.A', 'NNP'), ('degree', 'NN'), ('in', 'IN'), ('political', 'JJ'), ('science', 'NN'), ('from', 'IN'), ('Gujarat', 'NNP'), ('University', 'NNP'), ('in', 'IN'), ('Ahmadabad', 'NNP'), ('He', 'PRP'), ('joined', 'VBD'), ('the', 'DT'), ('pro-Hindu', 'JJ'), ('Rashtriya', 'NNP'), ('Swayamsevak', 'NNP'), ('Sangh', 'NNP'), ('RSS', 'NNP'), ('organization', 'NN'), ('in', 'IN'), ('the', 'DT'), ('early', 'JJ'), ('1970s', 'CD'), ('and', 'CC'), ('set', 'VBD'), ('up', 'RP'), ('a', 'DT'), ('unit', 'NN'), ('of', 'IN'), ('the', 'DT'), ('RSS', 'NNP'), ('’', 'NNP'), ('s', 'JJ'), ('students', 'NNS'), ('’', 'VBP'), ('wing', 'NN'), ('the', 'DT'), ('Akhil', 'NNP'), ('Bharatiya', 'NNP'), ('Vidyarthi', 'NNP'), ('Parishad', 'NNP'), ('in', 'IN'), ('his', 'PRP$'), ('area', 'NN'), ('Modi', 'NNP'), ('rose', 'VBD'), ('steadily', 'RB'), ('in', 'IN'), ('the', 'DT'), ('RSS', 'NNP'), ('hierarchy', 'NN'), ('and', 'CC'), ('his', 'PRP$'), ('association', 'NN'), ('with', 'IN'), ('the', 'DT'), ('organization', 'NN'), ('significantly', 'RB'), ('benefited', 'VBD'), ('his', 'PRP$'), ('subsequent', 'JJ'), ('political', 'JJ'), ('career', 'NN'), ('Modi', 'NNP'), ('joined', 'VBD'), ('the', 'DT'), ('BJP', 'NNP'), ('in', 'IN'), ('1987', 'CD'), ('and', 'CC'), ('a', 'DT'), ('year', 'NN'), ('later', 'RB'), ('he', 'PRP'), ('was', 'VBD'), ('made', 'VBN'), ('the', 'DT'), ('general', 'JJ'), ('secretary', 'NN'), ('of', 'IN'), ('the', 'DT'), ('Gujarat', 'NNP'), ('branch', 'NN'), ('of', 'IN'), ('the', 'DT'), ('party', 'NN'), ('He', 'PRP'), ('was', 'VBD'), ('instrumental', 'JJ'), ('in', 'IN'), ('greatly', 'RB'), ('strengthening', 'VBG'), ('the', 'DT'), ('party', 'NN'), ('’', 'NNP'), ('s', 'NN'), ('presence', 'NN'), ('in', 'IN'), ('the', 'DT'), ('state', 'NN'), ('in', 'IN'), ('succeeding', 'VBG'), ('years', 'NNS'), ('In', 'IN'), ('1990', 'CD'), ('Modi', 'NNP'), ('was', 'VBD'), ('one', 'CD'), ('of', 'IN'), ('the', 'DT'), ('BJP', 'NNP'), ('members', 'NNS'), ('who', 'WP'), ('participated', 'VBD'), ('in', 'IN'), ('a', 'DT'), ('coalition', 'NN'), ('government', 'NN'), ('in', 'IN'), ('the', 'DT'), ('state', 'NN'), ('and', 'CC'), ('he', 'PRP'), ('helped', 'VBD'), ('the', 'DT'), ('BJP', 'NNP'), ('achieve', 'VBP'), ('success', 'NN'), ('in', 'IN'), ('the', 'DT'), ('1995', 'CD'), ('state', 'NN'), ('legislative', 'JJ'), ('assembly', 'NN'), ('elections', 'NNS'), ('that', 'IN'), ('in', 'IN'), ('March', 'NNP'), ('allowed', 'VBD'), ('the', 'DT'), ('party', 'NN'), ('to', 'TO'), ('form', 'VB'), ('the', 'DT'), ('first-ever', 'JJ'), ('BJP-controlled', 'JJ'), ('government', 'NN'), ('in', 'IN'), ('India', 'NNP'), ('The', 'DT'), ('BJP', 'NNP'), ('’', 'NNP'), ('s', 'VBD'), ('control', 'NN'), ('of', 'IN'), ('the', 'DT'), ('state', 'NN'), ('government', 'NN'), ('was', 'VBD'), ('relatively', 'RB'), ('short-lived', 'JJ'), ('however', 'RB'), ('ending', 'VBG'), ('in', 'IN'), ('September', 'NNP'), ('1996', 'CD'), ('In', 'IN'), ('1995', 'CD'), ('Modi', 'NNP'), ('was', 'VBD'), ('made', 'VBN'), ('the', 'DT'), ('secretary', 'NN'), ('of', 'IN'), ('the', 'DT'), ('BJP', 'NNP'), ('’', 'NNP'), ('s', 'VBD'), ('national', 'JJ'), ('organization', 'NN'), ('in', 'IN'), ('New', 'NNP'), ('Delhi', 'NNP'), ('and', 'CC'), ('three', 'CD'), ('years', 'NNS'), ('later', 'RB'), ('he', 'PRP'), ('was', 'VBD'), ('appointed', 'VBN'), ('its', 'PRP$'), ('general', 'JJ'), ('secretary', 'NN'), ('He', 'PRP'), ('remained', 'VBD'), ('in', 'IN'), ('that', 'DT'), ('office', 'NN'), ('for', 'IN'), ('another', 'DT'), ('three', 'CD'), ('years', 'NNS'), ('but', 'CC'), ('in', 'IN'), ('October', 'NNP'), ('2001', 'CD'), ('he', 'PRP'), ('replaced', 'VBD'), ('the', 'DT'), ('incumbent', 'JJ'), ('Gujarat', 'NNP'), ('chief', 'NN'), ('minister', 'NN'), ('fellow', 'JJ'), ('BJP', 'NNP'), ('member', 'NN'), ('Keshubhai', 'NNP'), ('Patel', 'NNP'), ('after', 'IN'), ('Patel', 'NNP'), ('had', 'VBD'), ('been', 'VBN'), ('held', 'VBN'), ('responsible', 'JJ'), ('for', 'IN'), ('the', 'DT'), ('state', 'NN'), ('government', 'NN'), ('’', 'NNP'), ('s', 'VBD'), ('poor', 'JJ'), ('response', 'NN'), ('in', 'IN'), ('the', 'DT'), ('aftermath', 'NN'), ('of', 'IN'), ('the', 'DT'), ('massive', 'JJ'), ('Bhuj', 'NNP'), ('earthquake', 'NN'), ('in', 'IN'), ('Gujarat', 'NNP'), ('earlier', 'RB'), ('that', 'IN'), ('year', 'NN'), ('that', 'WDT'), ('killed', 'VBD'), ('more', 'JJR'), ('than', 'IN'), ('20,000', 'CD'), ('people', 'NNS'), ('Modi', 'NNP'), ('entered', 'VBD'), ('his', 'PRP$'), ('first-ever', 'JJ'), ('electoral', 'JJ'), ('contest', 'NN'), ('in', 'IN'), ('a', 'DT'), ('February', 'NNP'), ('2002', 'CD'), ('by-election', 'NN'), ('that', 'WDT'), ('won', 'VBD'), ('him', 'PRP'), ('a', 'DT'), ('seat', 'NN'), ('in', 'IN'), ('the', 'DT'), ('Gujarat', 'NNP'), ('state', 'NN'), ('assembly', 'NN'), ('Modi', 'NNP'), ('’', 'NNP'), ('s', 'VB'), ('political', 'JJ'), ('career', 'NN'), ('thereafter', 'RB'), ('remained', 'VBD'), ('a', 'DT'), ('mixture', 'NN'), ('of', 'IN'), ('deep', 'JJ'), ('controversy', 'NN'), ('and', 'CC'), ('self-promoted', 'JJ'), ('achievements', 'NNS'), ('His', 'PRP$'), ('role', 'NN'), ('as', 'IN'), ('chief', 'JJ'), ('minister', 'NN'), ('during', 'IN'), ('communal', 'JJ'), ('riots', 'NNS'), ('that', 'WDT'), ('engulfed', 'VBP'), ('Gujarat', 'NNP'), ('in', 'IN'), ('2002', 'CD'), ('was', 'VBD'), ('particularly', 'RB'), ('questioned', 'VBN'), ('He', 'PRP'), ('was', 'VBD'), ('accused', 'VBN'), ('of', 'IN'), ('condoning', 'VBG'), ('the', 'DT'), ('violence', 'NN'), ('or', 'CC'), ('at', 'IN'), ('least', 'JJS'), ('of', 'IN'), ('doing', 'VBG'), ('little', 'JJ'), ('to', 'TO'), ('stop', 'VB'), ('the', 'DT'), ('killing', 'NN'), ('of', 'IN'), ('more', 'JJR'), ('than', 'IN'), ('1,000', 'CD'), ('people', 'NNS'), ('mostly', 'RB'), ('Muslims', 'NNP'), ('that', 'WDT'), ('ensued', 'VBD'), ('after', 'IN'), ('dozens', 'NNS'), ('of', 'IN'), ('Hindu', 'NNP'), ('passengers', 'NNS'), ('died', 'VBD'), ('when', 'WRB'), ('their', 'PRP$'), ('train', 'NN'), ('was', 'VBD'), ('set', 'VBN'), ('on', 'IN'), ('fire', 'NN'), ('in', 'IN'), ('the', 'DT'), ('city', 'NN'), ('of', 'IN'), ('Godhra', 'NNP'), ('In', 'IN'), ('2005', 'CD'), ('the', 'DT'), ('United', 'NNP'), ('States', 'NNPS'), ('declined', 'VBD'), ('to', 'TO'), ('issue', 'VB'), ('him', 'PRP'), ('a', 'DT'), ('diplomatic', 'JJ'), ('visa', 'NN'), ('on', 'IN'), ('the', 'DT'), ('grounds', 'NNS'), ('that', 'IN'), ('he', 'PRP'), ('was', 'VBD'), ('responsible', 'JJ'), ('for', 'IN'), ('the', 'DT'), ('2002', 'CD'), ('riots', 'NNS'), ('and', 'CC'), ('the', 'DT'), ('United', 'NNP'), ('Kingdom', 'NNP'), ('also', 'RB'), ('criticized', 'VBD'), ('his', 'PRP$'), ('role', 'NN'), ('in', 'IN'), ('2002', 'CD'), ('Although', 'IN'), ('in', 'IN'), ('the', 'DT'), ('succeeding', 'NN'), ('years', 'NNS'), ('Modi', 'NNP'), ('himself', 'PRP'), ('escaped', 'VBD'), ('any', 'DT'), ('indictment', 'NN'), ('or', 'CC'), ('censure—either', 'NN'), ('by', 'IN'), ('the', 'DT'), ('judiciary', 'NN'), ('or', 'CC'), ('by', 'IN'), ('investigative', 'JJ'), ('agencies—some', 'NN'), ('of', 'IN'), ('his', 'PRP$'), ('close', 'JJ'), ('associates', 'NNS'), ('were', 'VBD'), ('found', 'VBN'), ('guilty', 'JJ'), ('of', 'IN'), ('complicity', 'NN'), ('in', 'IN'), ('the', 'DT'), ('2002', 'CD'), ('events', 'NNS'), ('and', 'CC'), ('received', 'VBN'), ('lengthy', 'JJ'), ('jail', 'NN'), ('sentences', 'NNS'), ('Modi', 'NNP'), ('’', 'NNP'), ('s', 'VBD'), ('administration', 'NN'), ('was', 'VBD'), ('also', 'RB'), ('accused', 'VBN'), ('of', 'IN'), ('involvement', 'NN'), ('in', 'IN'), ('extrajudicial', 'JJ'), ('killings', 'NNS'), ('variously', 'RB'), ('termed', 'VBN'), ('“', 'JJ'), ('encounters', 'NNS'), ('”', 'VBP'), ('or', 'CC'), ('“', 'VBP'), ('fake', 'JJ'), ('encounters', 'NNS'), ('”', 'VBP'), ('by', 'IN'), ('police', 'NN'), ('or', 'CC'), ('other', 'JJ'), ('authorities', 'NNS'), ('One', 'CD'), ('such', 'JJ'), ('case', 'NN'), ('in', 'IN'), ('2004', 'CD'), ('involved', 'VBD'), ('the', 'DT'), ('deaths', 'NNS'), ('of', 'IN'), ('a', 'DT'), ('woman', 'NN'), ('and', 'CC'), ('three', 'CD'), ('men', 'NNS'), ('whom', 'WP'), ('officials', 'NNS'), ('said', 'VBD'), ('were', 'VBD'), ('members', 'NNS'), ('of', 'IN'), ('Lashkar-e-Taiba', 'NNP'), ('a', 'DT'), ('Pakistan-based', 'JJ'), ('terrorist', 'JJ'), ('organization', 'NN'), ('that', 'WDT'), ('was', 'VBD'), ('involved', 'VBN'), ('in', 'IN'), ('the', 'DT'), ('2008', 'CD'), ('Mumbai', 'NNP'), ('terrorist', 'JJ'), ('attacks', 'NNS'), ('and', 'CC'), ('were', 'VBD'), ('alleged', 'VBN'), ('to', 'TO'), ('have', 'VB'), ('been', 'VBN'), ('plotting', 'VBG'), ('to', 'TO'), ('assassinate', 'VB'), ('Modi', 'NNP'), ('Modi', 'NNP'), ('’', 'NNP'), ('s', 'NN'), ('repeated', 'VBD'), ('political', 'JJ'), ('success', 'NN'), ('in', 'IN'), ('Gujarat', 'NNP'), ('however', 'RB'), ('made', 'VBD'), ('him', 'PRP'), ('an', 'DT'), ('indispensable', 'JJ'), ('leader', 'NN'), ('within', 'IN'), ('the', 'DT'), ('BJP', 'NNP'), ('hierarchy', 'NN'), ('and', 'CC'), ('led', 'VBD'), ('to', 'TO'), ('his', 'PRP$'), ('reintegration', 'NN'), ('into', 'IN'), ('the', 'DT'), ('political', 'JJ'), ('mainstream', 'NN'), ('Under', 'IN'), ('his', 'PRP$'), ('leadership', 'NN'), ('the', 'DT'), ('BJP', 'NNP'), ('secured', 'VBD'), ('a', 'DT'), ('significant', 'JJ'), ('victory', 'NN'), ('in', 'IN'), ('the', 'DT'), ('December', 'NNP'), ('2002', 'CD'), ('legislative', 'NN'), ('assembly', 'NN'), ('elections', 'NNS'), ('winning', 'VBG'), ('127', 'CD'), ('of', 'IN'), ('the', 'DT'), ('182', 'CD'), ('seats', 'NNS'), ('in', 'IN'), ('the', 'DT'), ('chamber', 'NN'), ('including', 'VBG'), ('a', 'DT'), ('seat', 'NN'), ('for', 'IN'), ('Modi', 'NNP'), ('Projecting', 'VBG'), ('a', 'DT'), ('manifesto', 'NN'), ('for', 'IN'), ('growth', 'NN'), ('and', 'CC'), ('development', 'NN'), ('in', 'IN'), ('Gujarat', 'NNP'), ('the', 'DT'), ('BJP', 'NNP'), ('was', 'VBD'), ('again', 'RB'), ('victorious', 'JJ'), ('in', 'IN'), ('the', 'DT'), ('2007', 'CD'), ('state', 'NN'), ('assembly', 'NN'), ('elections', 'NNS'), ('with', 'IN'), ('a', 'DT'), ('seat', 'NN'), ('total', 'NN'), ('of', 'IN'), ('117', 'CD'), ('and', 'CC'), ('the', 'DT'), ('party', 'NN'), ('prevailed', 'VBD'), ('again', 'RB'), ('in', 'IN'), ('the', 'DT'), ('2012', 'CD'), ('polls', 'NNS'), ('garnering', 'VBG'), ('115', 'CD'), ('seats', 'NNS'), ('Both', 'DT'), ('times', 'NNS'), ('Modi', 'NNP'), ('won', 'VBD'), ('his', 'PRP$'), ('contests', 'NNS'), ('and', 'CC'), ('returned', 'VBN'), ('as', 'IN'), ('chief', 'NN'), ('minister', 'NN'), ('During', 'IN'), ('his', 'PRP$'), ('time', 'NN'), ('as', 'IN'), ('head', 'NN'), ('of', 'IN'), ('the', 'DT'), ('Gujarat', 'NNP'), ('government', 'NN'), ('Modi', 'NNP'), ('established', 'VBD'), ('a', 'DT'), ('formidable', 'JJ'), ('reputation', 'NN'), ('as', 'IN'), ('an', 'DT'), ('able', 'JJ'), ('administrator', 'NN'), ('and', 'CC'), ('he', 'PRP'), ('was', 'VBD'), ('given', 'VBN'), ('credit', 'NN'), ('for', 'IN'), ('the', 'DT'), ('rapid', 'JJ'), ('growth', 'NN'), ('of', 'IN'), ('the', 'DT'), ('state', 'NN'), ('’', 'NNP'), ('s', 'NN'), ('economy', 'NN'), ('In', 'IN'), ('addition', 'NN'), ('his', 'PRP$'), ('and', 'CC'), ('the', 'DT'), ('party', 'NN'), ('’', 'NNP'), ('s', 'VBZ'), ('electoral', 'JJ'), ('performances', 'NNS'), ('helped', 'VBD'), ('advance', 'VB'), ('Modi', 'NNP'), ('’', 'NNP'), ('s', 'JJ'), ('position', 'NN'), ('as', 'IN'), ('not', 'RB'), ('only', 'RB'), ('the', 'DT'), ('most-influential', 'JJ'), ('leader', 'NN'), ('within', 'IN'), ('the', 'DT'), ('party', 'NN'), ('but', 'CC'), ('also', 'RB'), ('a', 'DT'), ('potential', 'JJ'), ('candidate', 'NN'), ('for', 'IN'), ('prime', 'JJ'), ('minister', 'NN'), ('of', 'IN'), ('India', 'NNP'), ('In', 'IN'), ('June', 'NNP'), ('2013', 'CD'), ('Modi', 'NNP'), ('was', 'VBD'), ('chosen', 'VBN'), ('the', 'DT'), ('leader', 'NN'), ('of', 'IN'), ('the', 'DT'), ('BJP', 'NNP'), ('’', 'NNP'), ('s', 'VBP'), ('campaign', 'NN'), ('for', 'IN'), ('the', 'DT'), ('2014', 'CD'), ('elections', 'NNS'), ('to', 'TO'), ('the', 'DT'), ('Lok', 'NNP'), ('Sabha', 'NNP'), ('After', 'IN'), ('a', 'DT'), ('vigorous', 'JJ'), ('campaign—in', 'NN'), ('which', 'WDT'), ('Modi', 'NNP'), ('portrayed', 'VBD'), ('himself', 'PRP'), ('as', 'IN'), ('a', 'DT'), ('pragmatic', 'JJ'), ('candidate', 'NN'), ('who', 'WP'), ('could', 'MD'), ('turn', 'VB'), ('around', 'RP'), ('India', 'NNP'), ('’', 'NNP'), ('s', 'VBD'), ('underperforming', 'JJ'), ('economy—he', 'NN'), ('and', 'CC'), ('the', 'DT'), ('party', 'NN'), ('were', 'VBD'), ('victorious', 'JJ'), ('with', 'IN'), ('the', 'DT'), ('BJP', 'NNP'), ('winning', 'VBG'), ('a', 'DT'), ('clear', 'JJ'), ('majority', 'NN'), ('of', 'IN'), ('seats', 'NNS'), ('in', 'IN'), ('the', 'DT'), ('chamber', 'NN'), ('Modi', 'NNP'), ('was', 'VBD'), ('sworn', 'VBN'), ('in', 'IN'), ('as', 'IN'), ('prime', 'JJ'), ('minister', 'NN'), ('on', 'IN'), ('May', 'NNP'), ('26', 'CD'), ('2014', 'CD'), ('Soon', 'NN'), ('after', 'IN'), ('he', 'PRP'), ('took', 'VBD'), ('office', 'NN'), ('his', 'PRP$'), ('government', 'NN'), ('embarked', 'VBD'), ('on', 'IN'), ('several', 'JJ'), ('reforms', 'NNS'), ('including', 'VBG'), ('campaigns', 'NNS'), ('to', 'TO'), ('improve', 'VB'), ('India', 'NNP'), ('’', 'NNP'), ('s', 'JJ'), ('transportation', 'NN'), ('infrastructure', 'NN'), ('and', 'CC'), ('to', 'TO'), ('liberalize', 'VB'), ('rules', 'NNS'), ('on', 'IN'), ('direct', 'JJ'), ('foreign', 'JJ'), ('investment', 'NN'), ('in', 'IN'), ('the', 'DT'), ('country', 'NN'), ('Modi', 'NNP'), ('scored', 'VBD'), ('two', 'CD'), ('significant', 'JJ'), ('diplomatic', 'JJ'), ('achievements', 'NNS'), ('early', 'RB'), ('in', 'IN'), ('his', 'PRP$'), ('term', 'NN'), ('In', 'IN'), ('mid-September', 'NN'), ('he', 'PRP'), ('hosted', 'VBD'), ('a', 'DT'), ('visit', 'NN'), ('by', 'IN'), ('Chinese', 'NNP'), ('President', 'NNP'), ('Xi', 'NNP'), ('Jinping', 'NNP'), ('the', 'DT'), ('first', 'JJ'), ('time', 'NN'), ('a', 'DT'), ('Chinese', 'JJ'), ('leader', 'NN'), ('had', 'VBD'), ('been', 'VBN'), ('to', 'TO'), ('India', 'NNP'), ('in', 'IN'), ('eight', 'CD'), ('years', 'NNS'), ('At', 'IN'), ('the', 'DT'), ('end', 'NN'), ('of', 'IN'), ('that', 'DT'), ('month', 'NN'), ('having', 'VBG'), ('been', 'VBN'), ('granted', 'VBN'), ('a', 'DT'), ('U.S.', 'NNP'), ('visa', 'NN'), ('Modi', 'NNP'), ('made', 'VBD'), ('a', 'DT'), ('highly', 'RB'), ('successful', 'JJ'), ('visit', 'NN'), ('to', 'TO'), ('New', 'NNP'), ('York', 'NNP'), ('City', 'NNP'), ('which', 'WDT'), ('included', 'VBD'), ('a', 'DT'), ('meeting', 'NN'), ('with', 'IN'), ('U.S.', 'NNP'), ('Pres', 'NNP'), ('Barack', 'NNP'), ('Obama', 'NNP'), ('As', 'IN'), ('prime', 'JJ'), ('minister', 'NN'), ('Modi', 'NNP'), ('oversaw', 'VBD'), ('a', 'DT'), ('promotion', 'NN'), ('of', 'IN'), ('Hindu', 'NNP'), ('culture', 'NN'), ('and', 'CC'), ('the', 'DT'), ('implementation', 'NN'), ('of', 'IN'), ('economic', 'JJ'), ('reforms', 'NNS'), ('The', 'DT'), ('government', 'NN'), ('undertook', 'NN'), ('measures', 'VBZ'), ('that', 'WDT'), ('would', 'MD'), ('broadly', 'RB'), ('appeal', 'VB'), ('to', 'TO'), ('Hindus', 'NNP'), ('such', 'JJ'), ('as', 'IN'), ('its', 'PRP$'), ('attempt', 'NN'), ('to', 'TO'), ('ban', 'VB'), ('the', 'DT'), ('sale', 'NN'), ('of', 'IN'), ('cows', 'NNS'), ('for', 'IN'), ('slaughter', 'NN'), ('The', 'DT'), ('economic', 'JJ'), ('reforms', 'NNS'), ('were', 'VBD'), ('sweeping', 'JJ'), ('introducing', 'JJ'), ('structural', 'JJ'), ('changes—and', 'NN'), ('temporary', 'JJ'), ('disruptions—that', 'NN'), ('could', 'MD'), ('be', 'VB'), ('felt', 'VBN'), ('nationwide', 'JJ'), ('Among', 'IN'), ('the', 'DT'), ('most', 'RBS'), ('far-reaching', 'JJ'), ('was', 'VBD'), ('the', 'DT'), ('demonetization', 'NN'), ('and', 'CC'), ('replacement', 'NN'), ('of', 'IN'), ('500-', 'JJ'), ('and', 'CC'), ('1,000-rupee', 'JJ'), ('banknotes', 'NNS'), ('with', 'IN'), ('only', 'RB'), ('a', 'DT'), ('few', 'JJ'), ('hours', 'NNS'), ('’', 'JJ'), ('notice', 'RB'), ('The', 'DT'), ('purpose', 'NN'), ('was', 'VBD'), ('to', 'TO'), ('stop', 'VB'), ('“', 'NNP'), ('black', 'JJ'), ('money', 'NN'), ('”', 'NN'), ('—cash', 'NN'), ('used', 'VBN'), ('for', 'IN'), ('illicit', 'JJ'), ('activities—by', 'NN'), ('making', 'VBG'), ('it', 'PRP'), ('difficult', 'JJ'), ('to', 'TO'), ('exchange', 'VB'), ('large', 'JJ'), ('sums', 'NNS'), ('of', 'IN'), ('cash', 'NN'), ('The', 'DT'), ('following', 'JJ'), ('year', 'NN'), ('the', 'DT'), ('government', 'NN'), ('centralized', 'VBD'), ('the', 'DT'), ('consumption', 'NN'), ('tax', 'NN'), ('system', 'NN'), ('by', 'IN'), ('introducing', 'VBG'), ('the', 'DT'), ('Goods', 'NNP'), ('and', 'CC'), ('Services', 'NNPS'), ('Tax', 'NNP'), ('GST', 'NNP'), ('which', 'WDT'), ('superseded', 'VBD'), ('a', 'DT'), ('confusing', 'JJ'), ('system', 'NN'), ('of', 'IN'), ('local', 'JJ'), ('consumption', 'NN'), ('taxes', 'NNS'), ('and', 'CC'), ('eliminated', 'VBD'), ('the', 'DT'), ('problem', 'NN'), ('of', 'IN'), ('cascading', 'VBG'), ('tax', 'NN'), ('GDP', 'NNP'), ('growth', 'NN'), ('slowed', 'VBD'), ('from', 'IN'), ('these', 'DT'), ('changes', 'NNS'), ('though', 'IN'), ('growth', 'NN'), ('had', 'VBD'), ('already', 'RB'), ('been', 'VBN'), ('high', 'JJ'), ('8.2', 'CD'), ('percent', 'NN'), ('in', 'IN'), ('2015', 'CD'), ('and', 'CC'), ('the', 'DT'), ('reforms', 'NNS'), ('succeeded', 'VBN'), ('in', 'IN'), ('expanding', 'VBG'), ('the', 'DT'), ('government', 'NN'), ('’', 'NNP'), ('s', 'VBZ'), ('tax', 'NN'), ('base', 'NN'), ('Still', 'RB'), ('rising', 'VBG'), ('costs', 'NNS'), ('of', 'IN'), ('living', 'NN'), ('and', 'CC'), ('increasing', 'VBG'), ('unemployment', 'NN'), ('disappointed', 'VBD'), ('many', 'JJ'), ('as', 'IN'), ('grandiose', 'JJ'), ('promises', 'NNS'), ('of', 'IN'), ('economic', 'JJ'), ('growth', 'NN'), ('remained', 'VBD'), ('unfulfilled', 'JJ'), ('This', 'DT'), ('disappointment', 'NN'), ('registered', 'VBD'), ('with', 'IN'), ('voters', 'NNS'), ('during', 'IN'), ('the', 'DT'), ('elections', 'NNS'), ('in', 'IN'), ('five', 'CD'), ('states', 'NNS'), ('in', 'IN'), ('late', 'JJ'), ('2018', 'CD'), ('The', 'DT'), ('BJP', 'NNP'), ('lost', 'VBN'), ('in', 'IN'), ('all', 'DT'), ('five', 'CD'), ('states', 'NNS'), ('including', 'VBG'), ('the', 'DT'), ('BJP', 'NNP'), ('strongholds', 'NNS'), ('of', 'IN'), ('Madhya', 'NNP'), ('Pradesh', 'NNP'), ('Rajasthan', 'NNP'), ('and', 'CC'), ('Chhattisgarh', 'NNP'), ('The', 'DT'), ('rival', 'JJ'), ('Indian', 'JJ'), ('National', 'NNP'), ('Congress', 'NNP'), ('Congress', 'NNP'), ('Party', 'NNP'), ('won', 'VBD'), ('more', 'RBR'), ('state', 'NN'), ('assembly', 'RB'), ('seats', 'NNS'), ('than', 'IN'), ('the', 'DT'), ('BJP', 'NNP'), ('in', 'IN'), ('all', 'DT'), ('five', 'CD'), ('elections', 'NNS'), ('Many', 'JJ'), ('observers', 'NNS'), ('believed', 'VBD'), ('that', 'IN'), ('this', 'DT'), ('portended', 'VBD'), ('bad', 'JJ'), ('news', 'NN'), ('for', 'IN'), ('Modi', 'NNP'), ('and', 'CC'), ('the', 'DT'), ('BJP', 'NNP'), ('in', 'IN'), ('the', 'DT'), ('national', 'JJ'), ('elections', 'NNS'), ('set', 'VBN'), ('for', 'IN'), ('the', 'DT'), ('spring', 'NN'), ('of', 'IN'), ('2019', 'CD'), ('but', 'CC'), ('others', 'NNS'), ('believed', 'VBD'), ('that', 'IN'), ('Modi', 'NNP'), ('’', 'NNP'), ('s', 'NN'), ('charisma', 'NN'), ('would', 'MD'), ('excite', 'VB'), ('the', 'DT'), ('voters', 'NNS'), ('Moreover', 'RB'), ('a', 'DT'), ('security', 'NN'), ('crisis', 'NN'), ('in', 'IN'), ('Jammu', 'NNP'), ('and', 'CC'), ('Kashmir', 'NNP'), ('in', 'IN'), ('February', 'NNP'), ('2019', 'CD'), ('which', 'WDT'), ('escalated', 'VBD'), ('tensions', 'NNS'), ('with', 'IN'), ('Pakistan', 'NNP'), ('to', 'TO'), ('the', 'DT'), ('highest', 'JJS'), ('point', 'NN'), ('in', 'IN'), ('decades', 'NNS'), ('boosted', 'VBD'), ('Modi', 'NNP'), ('’', 'NNP'), ('s', 'JJ'), ('image', 'NN'), ('just', 'RB'), ('months', 'NNS'), ('before', 'IN'), ('the', 'DT'), ('election', 'NN'), ('With', 'IN'), ('the', 'DT'), ('BJP', 'NNP'), ('dominating', 'VBG'), ('the', 'DT'), ('airwaves', 'NNS'), ('during', 'IN'), ('the', 'DT'), ('campaign—in', 'NN'), ('contrast', 'NN'), ('to', 'TO'), ('the', 'DT'), ('lacklustre', 'NN'), ('campaign', 'NN'), ('of', 'IN'), ('Rahul', 'NNP'), ('Gandhi', 'NNP'), ('and', 'CC'), ('Congress—the', 'NNP'), ('BJP', 'NNP'), ('was', 'VBD'), ('returned', 'VBN'), ('to', 'TO'), ('power', 'NN'), ('and', 'CC'), ('Modi', 'NNP'), ('became', 'VBD'), ('India', 'NNP'), ('’', 'NNP'), ('s', 'VBD'), ('first', 'JJ'), ('prime', 'JJ'), ('minister', 'NN'), ('outside', 'IN'), ('of', 'IN'), ('the', 'DT'), ('Congress', 'NNP'), ('Party', 'NNP'), ('to', 'TO'), ('be', 'VB'), ('reelected', 'VBN'), ('after', 'IN'), ('a', 'DT'), ('full', 'JJ'), ('term', 'NN')]\n"
     ]
    }
   ],
   "source": [
    "# Lets clean all of l3 from any punctuations\n",
    "l5=[]\n",
    "for i in l3:\n",
    "    for j in i:\n",
    "        if j[0] in punctuation:\n",
    "            temp=1\n",
    "        else:\n",
    "            l5.append(j)\n",
    "\n",
    "# l5 contains all the pos tags without any punctuation\n",
    "print(l5)"
   ]
  },
  {
   "cell_type": "code",
   "execution_count": 16,
   "metadata": {},
   "outputs": [
    {
     "data": {
      "text/plain": [
       "1262"
      ]
     },
     "execution_count": 16,
     "metadata": {},
     "output_type": "execute_result"
    }
   ],
   "source": [
    "len(l5)"
   ]
  },
  {
   "cell_type": "code",
   "execution_count": 438,
   "metadata": {},
   "outputs": [],
   "source": [
    "# Storing l5 in tagged\n",
    "tagged=l5\n"
   ]
  },
  {
   "cell_type": "code",
   "execution_count": 439,
   "metadata": {},
   "outputs": [
    {
     "name": "stdout",
     "output_type": "stream",
     "text": [
      "[1, 6, 81, 139, 158, 200, 263, 346, 367, 480, 512, 582, 583, 639, 680, 698, 734, 760, 784, 817, 859, 905, 927, 1159, 1177, 1208, 1242]\n"
     ]
    }
   ],
   "source": [
    "adjective_tags = [\"JJ\", \"JJR\", \"JJS\"]\n",
    "\n",
    "#tagged.index(i)\n",
    "#(i[0]==\"Modi\") and (tagged.index(i)>=2)\n",
    "\n",
    "tagged_first=[i[0] for i in tagged]\n",
    "tagged_first\n",
    "\n",
    "def duplicates(lst, item):\n",
    "       return [j for j, x in enumerate(lst) if x == item]\n",
    "    \n",
    "indx_pos=duplicates(tagged_first, 'Modi')\n",
    "print(indx_pos)\n",
    "\n",
    "#tagged[indx_pos[0]]\n",
    "# pos contains the positional indices where the word 'Modi' has appeared in tagged"
   ]
  },
  {
   "cell_type": "code",
   "execution_count": 449,
   "metadata": {},
   "outputs": [
    {
     "name": "stdout",
     "output_type": "stream",
     "text": [
      "[[('Narendra', 'NNP'), ('in', 'IN'), ('full', 'JJ'), ('Narendra', 'NNP'), ('Damodardas', 'NNP')], [('Damodardas', 'NNP'), ('Narendra', 'NNP'), ('full', 'JJ'), ('born', 'JJ'), ('September', 'NNP'), ('17', 'CD'), ('1950', 'CD')], [('India', 'NNP'), ('western', 'JJ'), ('in', 'IN'), ('was', 'VBD'), ('raised', 'VBN'), ('in', 'IN'), ('a', 'DT')], [('area', 'NN'), ('his', 'PRP$'), ('in', 'IN'), ('rose', 'VBD'), ('steadily', 'RB'), ('in', 'IN'), ('the', 'DT')], [('career', 'NN'), ('political', 'JJ'), ('subsequent', 'JJ'), ('joined', 'VBD'), ('the', 'DT'), ('BJP', 'NNP'), ('in', 'IN')], [('1990', 'CD'), ('In', 'IN'), ('years', 'NNS'), ('was', 'VBD'), ('one', 'CD'), ('of', 'IN'), ('the', 'DT')], [('1995', 'CD'), ('In', 'IN'), ('1996', 'CD'), ('was', 'VBD'), ('made', 'VBN'), ('the', 'DT'), ('secretary', 'NN')], [('people', 'NNS'), ('20,000', 'CD'), ('than', 'IN'), ('entered', 'VBD'), ('his', 'PRP$'), ('first-ever', 'JJ'), ('electoral', 'JJ')], [('assembly', 'NN'), ('state', 'NN'), ('Gujarat', 'NNP'), ('’', 'NNP'), ('s', 'VB'), ('political', 'JJ'), ('career', 'NN')], [('years', 'NNS'), ('succeeding', 'NN'), ('the', 'DT'), ('himself', 'PRP'), ('escaped', 'VBD'), ('any', 'DT'), ('indictment', 'NN')]]\n"
     ]
    }
   ],
   "source": [
    "# Finding the adjective from Modi-3 to Modi+4 places \n",
    "adjective_tags = [\"JJ\", \"JJR\", \"JJS\"]\n",
    "k=[]\n",
    "# Combining the words that are [Modi -3,Modi + 4]\n",
    "for j in indx_pos:\n",
    "    pos=j\n",
    "    \n",
    "    if pos==0:\n",
    "        l=[(tagged[pos+1][0],tagged[pos+1][1]),(tagged[pos+2][0],tagged[pos+2][1]),\n",
    "      (tagged[pos+3][0],tagged[pos+3][1]),(tagged[pos+4][0],tagged[pos+4][1])]\n",
    "        k.append(l)\n",
    "        \n",
    "    elif pos==1:\n",
    "        l=[(tagged[pos-1][0],tagged[pos-1][1]),(tagged[pos+1][0],tagged[pos+1][1]),(tagged[pos+2][0],tagged[pos+2][1]),\n",
    "      (tagged[pos+3][0],tagged[pos+3][1]),(tagged[pos+4][0],tagged[pos+4][1])]\n",
    "        k.append(l)\n",
    "     \n",
    "    elif pos==2:\n",
    "        l=[(tagged[pos-2][0],tagged[pos-2][1]),(tagged[pos-1][0],tagged[pos-1][1]),(tagged[pos+1][0],tagged[pos+1][1]),(tagged[pos+2][0],tagged[pos+2][1]),\n",
    "      (tagged[pos+3][0],tagged[pos+3][1]),(tagged[pos+4][0],tagged[pos+4][1])]\n",
    "        k.append(l)\n",
    "\n",
    "    else:\n",
    "        l=[(tagged[pos-1][0],tagged[pos-1][1]),(tagged[pos-2][0],tagged[pos-2][1]),(tagged[pos-3][0],tagged[pos-3][1]),(tagged[pos+1][0],tagged[pos+1][1]),(tagged[pos+2][0],tagged[pos+2][1]),\n",
    "      (tagged[pos+3][0],tagged[pos+3][1]),(tagged[pos+4][0],tagged[pos+4][1])]\n",
    "        k.append(l)\n",
    "    \n",
    "# Examining first few records\n",
    "print(k[0:10])    "
   ]
  },
  {
   "cell_type": "code",
   "execution_count": 450,
   "metadata": {},
   "outputs": [
    {
     "name": "stdout",
     "output_type": "stream",
     "text": [
      "{'first-ever', 'electoral', 'vigorous', 's', 'diplomatic', 'bad', 'political', 'western', 'formidable', 'born', 'significant', 'prime', 'successful', 'subsequent', 'lengthy', 'full'}\n"
     ]
    }
   ],
   "source": [
    "# Extracting the adjectives\n",
    "adj_jj=[]    \n",
    "for l in k:\n",
    "    for m in l:\n",
    "        if(m[1] in adjective_tags):\n",
    "            adj_jj.append(m[0])\n",
    "        \n",
    "\n",
    "\n",
    "adj_jj_ls=set(adj_jj)\n",
    "print(adj_jj_ls)"
   ]
  },
  {
   "cell_type": "code",
   "execution_count": 369,
   "metadata": {},
   "outputs": [
    {
     "data": {
      "text/plain": [
       "{'He', 'His', 'he', 'him', 'himself', 'his', 'it', 'its', 'their'}"
      ]
     },
     "execution_count": 369,
     "metadata": {},
     "output_type": "execute_result"
    }
   ],
   "source": [
    "prep=[]\n",
    "for i in tagged:\n",
    "    if i[1] in ['PRP','PRP$']:\n",
    "        m=i[0]\n",
    "        prep.append(m)\n",
    "set(prep)\n",
    "\n",
    "# Most probably the prepositions used for Modi are he, His, he, him, himself, his"
   ]
  },
  {
   "cell_type": "code",
   "execution_count": 445,
   "metadata": {},
   "outputs": [
    {
     "data": {
      "text/plain": [
       "[33, 35, 53, 65, 92, 105, 137, 147, 154, 168]"
      ]
     },
     "execution_count": 445,
     "metadata": {},
     "output_type": "execute_result"
    }
   ],
   "source": [
    "# Lets try to find out the adjectives related to the pronouns\n",
    "adjective_tags = [\"JJ\", \"JJR\", \"JJS\"]\n",
    "\n",
    "tagged_first=[i[0] for i in tagged]\n",
    "tagged_first\n",
    "\n",
    "def duplicates(lst, item):\n",
    "       return [j for j, x in enumerate(lst) if x in item]\n",
    "    \n",
    "indx1_pos=duplicates(tagged_first, ['He', 'His', 'he', 'him', 'himself', 'his'])\n",
    "indx1_pos[0:10]\n"
   ]
  },
  {
   "cell_type": "code",
   "execution_count": 453,
   "metadata": {},
   "outputs": [
    {
     "name": "stdout",
     "output_type": "stream",
     "text": [
      "[[('2014', 'CD'), ('In', 'IN'), ('BJP', 'NNP'), ('led', 'VBD'), ('his', 'PRP$'), ('party', 'NN'), ('to', 'TO')], [('led', 'VBD'), ('he', 'PRP'), ('2014', 'CD'), ('party', 'NN'), ('to', 'TO'), ('victory', 'NN'), ('in', 'IN')], [('which', 'WDT'), ('after', 'IN'), ('parliament', 'NN'), ('was', 'VBD'), ('sworn', 'VBN'), ('in', 'IN'), ('as', 'IN')], [('that', 'IN'), ('to', 'TO'), ('Prior', 'NNP'), ('had', 'VBD'), ('served', 'VBN'), ('2001–14', 'CD'), ('as', 'IN')], [('and', 'CC'), ('Gujarat', 'NNP'), ('northern', 'JJ'), ('completed', 'VBD'), ('an', 'DT'), ('M.A', 'NNP'), ('degree', 'NN')], [('Ahmadabad', 'NNP'), ('in', 'IN'), ('University', 'NNP'), ('joined', 'VBD'), ('the', 'DT'), ('pro-Hindu', 'JJ'), ('Rashtriya', 'NNP')], [('in', 'IN'), ('Parishad', 'NNP'), ('Vidyarthi', 'NNP'), ('area', 'NN'), ('Modi', 'NNP'), ('rose', 'VBD'), ('steadily', 'RB')], [('and', 'CC'), ('hierarchy', 'NN'), ('RSS', 'NNP'), ('association', 'NN'), ('with', 'IN'), ('the', 'DT'), ('organization', 'NN')], [('benefited', 'VBD'), ('significantly', 'RB'), ('organization', 'NN'), ('subsequent', 'JJ'), ('political', 'JJ'), ('career', 'NN'), ('Modi', 'NNP')], [('later', 'RB'), ('year', 'NN'), ('a', 'DT'), ('was', 'VBD'), ('made', 'VBN'), ('the', 'DT'), ('general', 'JJ')]]\n"
     ]
    }
   ],
   "source": [
    "# Finding the adjective for preposition-3 to preposition+4 places \n",
    "adjective_tags = [\"JJ\", \"JJR\", \"JJS\"]\n",
    "k1=[]\n",
    "for j in indx1_pos:\n",
    "    pos=j\n",
    "    \n",
    "    if pos==0:\n",
    "        l=[(tagged[pos+1][0],tagged[pos+1][1]),(tagged[pos+2][0],tagged[pos+2][1]),\n",
    "      (tagged[pos+3][0],tagged[pos+3][1]),(tagged[pos+4][0],tagged[pos+4][1])]\n",
    "        k1.append(l)\n",
    "        \n",
    "    elif pos==1:\n",
    "        l=[(tagged[pos-1][0],tagged[pos-1][1]),(tagged[pos+1][0],tagged[pos+1][1]),(tagged[pos+2][0],tagged[pos+2][1]),\n",
    "      (tagged[pos+3][0],tagged[pos+3][1]),(tagged[pos+4][0],tagged[pos+4][1])]\n",
    "        k1.append(l)\n",
    "     \n",
    "    elif pos==2:\n",
    "        l=[(tagged[pos-2][0],tagged[pos-2][1]),(tagged[pos-1][0],tagged[pos-1][1]),(tagged[pos+1][0],tagged[pos+1][1]),(tagged[pos+2][0],tagged[pos+2][1]),\n",
    "      (tagged[pos+3][0],tagged[pos+3][1]),(tagged[pos+4][0],tagged[pos+4][1])]\n",
    "        k1.append(l)\n",
    "\n",
    "    else:\n",
    "        l=[(tagged[pos-1][0],tagged[pos-1][1]),(tagged[pos-2][0],tagged[pos-2][1]),(tagged[pos-3][0],tagged[pos-3][1]),(tagged[pos+1][0],tagged[pos+1][1]),(tagged[pos+2][0],tagged[pos+2][1]),\n",
    "      (tagged[pos+3][0],tagged[pos+3][1]),(tagged[pos+4][0],tagged[pos+4][1])]\n",
    "        k1.append(l)\n",
    "    \n",
    "# Examining first few records\n",
    "print(k1[0:10])"
   ]
  },
  {
   "cell_type": "code",
   "execution_count": 455,
   "metadata": {},
   "outputs": [
    {
     "name": "stdout",
     "output_type": "stream",
     "text": [
      "{'self-promoted', 'able', 'northern', 'political', 'incumbent', 'chief', 'electoral', 'several', 'general', 'instrumental', 'investigative', 'diplomatic', 'responsible', 'first-ever', 'pro-Hindu', 'indispensable', 'subsequent', 'close', 'pragmatic'}\n"
     ]
    }
   ],
   "source": [
    "# Extracting the adjectives\n",
    "adj_jj1=[]    \n",
    "for l in k1:\n",
    "    for m in l:\n",
    "        if(m[1] in adjective_tags):\n",
    "            adj_jj1.append(m[0])\n",
    "        \n",
    "\n",
    "\n",
    "adj_jj1_ls=set(adj_jj1)\n",
    "print(adj_jj1_ls)"
   ]
  },
  {
   "cell_type": "code",
   "execution_count": 456,
   "metadata": {},
   "outputs": [
    {
     "name": "stdout",
     "output_type": "stream",
     "text": [
      "[['first-ever', 'electoral', 'vigorous', 's', 'diplomatic', 'bad', 'political', 'western', 'formidable', 'born', 'significant', 'prime', 'successful', 'subsequent', 'lengthy', 'full'], ['self-promoted', 'able', 'northern', 'political', 'incumbent', 'chief', 'electoral', 'several', 'general', 'instrumental', 'investigative', 'diplomatic', 'responsible', 'first-ever', 'pro-Hindu', 'indispensable', 'subsequent', 'close', 'pragmatic']]\n"
     ]
    }
   ],
   "source": [
    "# Combining adj_jj and adj_jj1\n",
    "\n",
    "final_adj=[list(adj_jj_ls),list(adj_jj1_ls)]\n",
    "print(final_adj)\n"
   ]
  },
  {
   "cell_type": "markdown",
   "metadata": {},
   "source": [
    "***The following task can be tried  as part of the learning***"
   ]
  },
  {
   "cell_type": "code",
   "execution_count": null,
   "metadata": {},
   "outputs": [],
   "source": [
    "\n",
    "# Task 3: What are different prepositions used for key entities. What can be inferred from the them\n",
    "# Task 4: Conditional freq distribution of key entities depending upon a condition"
   ]
  }
 ],
 "metadata": {
  "kernelspec": {
   "display_name": "Python 3",
   "language": "python",
   "name": "python3"
  },
  "language_info": {
   "codemirror_mode": {
    "name": "ipython",
    "version": 3
   },
   "file_extension": ".py",
   "mimetype": "text/x-python",
   "name": "python",
   "nbconvert_exporter": "python",
   "pygments_lexer": "ipython3",
   "version": "3.7.1"
  }
 },
 "nbformat": 4,
 "nbformat_minor": 2
}

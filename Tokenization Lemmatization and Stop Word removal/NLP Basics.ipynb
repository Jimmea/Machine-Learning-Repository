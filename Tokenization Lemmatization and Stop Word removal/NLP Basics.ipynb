{
 "cells": [
  {
   "cell_type": "code",
   "execution_count": 34,
   "metadata": {},
   "outputs": [
    {
     "name": "stdout",
     "output_type": "stream",
     "text": [
      "I don't like to study . All the concepts can't be learned through studying . I have studied all life but haven't got any success\n"
     ]
    }
   ],
   "source": [
    "# Importing the libraries\n",
    "\n",
    "import nltk\n",
    "import numpy as np\n",
    "import sklearn\n",
    "import pandas as pd\n",
    "\n",
    "text=\"I don't like to study . All the concepts can't be learned through studying . I have studied all life but haven't got any success\"\n",
    "print(text)"
   ]
  },
  {
   "cell_type": "code",
   "execution_count": 3,
   "metadata": {},
   "outputs": [],
   "source": [
    "# Any basic text analysis has the following processes\n",
    "# 1: Tokenization\n",
    "# 2:Lemmatization\n",
    "# 3:Stop Word Removal"
   ]
  },
  {
   "cell_type": "code",
   "execution_count": 35,
   "metadata": {},
   "outputs": [
    {
     "data": {
      "text/plain": [
       "['I',\n",
       " \"don't\",\n",
       " 'like',\n",
       " 'to',\n",
       " 'study',\n",
       " '.',\n",
       " 'All',\n",
       " 'the',\n",
       " 'concepts',\n",
       " \"can't\",\n",
       " 'be',\n",
       " 'learned',\n",
       " 'through',\n",
       " 'studying',\n",
       " '.',\n",
       " 'I',\n",
       " 'have',\n",
       " 'studied',\n",
       " 'all',\n",
       " 'life',\n",
       " 'but',\n",
       " \"haven't\",\n",
       " 'got',\n",
       " 'any',\n",
       " 'success']"
      ]
     },
     "execution_count": 35,
     "metadata": {},
     "output_type": "execute_result"
    }
   ],
   "source": [
    "# Tokenization\n",
    "# It is the process of breaking text into smaller chunks/tokens \n",
    "\n",
    "#Let call an instance of white space tonkenizer\n",
    "\n",
    "tokenizer=nltk.tokenize.WhitespaceTokenizer()\n",
    "tokenizer.tokenize(text)"
   ]
  },
  {
   "cell_type": "code",
   "execution_count": 36,
   "metadata": {},
   "outputs": [
    {
     "data": {
      "text/plain": [
       "['I',\n",
       " 'do',\n",
       " \"n't\",\n",
       " 'like',\n",
       " 'to',\n",
       " 'study',\n",
       " '.',\n",
       " 'All',\n",
       " 'the',\n",
       " 'concepts',\n",
       " 'ca',\n",
       " \"n't\",\n",
       " 'be',\n",
       " 'learned',\n",
       " 'through',\n",
       " 'studying',\n",
       " '.',\n",
       " 'I',\n",
       " 'have',\n",
       " 'studied',\n",
       " 'all',\n",
       " 'life',\n",
       " 'but',\n",
       " 'have',\n",
       " \"n't\",\n",
       " 'got',\n",
       " 'any',\n",
       " 'success']"
      ]
     },
     "execution_count": 36,
     "metadata": {},
     "output_type": "execute_result"
    }
   ],
   "source": [
    "#TreebankWord tokenizer retains ' and \" which is sometimes more meaningful\n",
    "\n",
    "tokenize=nltk.tokenize.TreebankWordTokenizer()\n",
    "tokenize.tokenize(text)"
   ]
  },
  {
   "cell_type": "code",
   "execution_count": 37,
   "metadata": {},
   "outputs": [
    {
     "data": {
      "text/plain": [
       "['I',\n",
       " 'don',\n",
       " \"'\",\n",
       " 't',\n",
       " 'like',\n",
       " 'to',\n",
       " 'study',\n",
       " '.',\n",
       " 'All',\n",
       " 'the',\n",
       " 'concepts',\n",
       " 'can',\n",
       " \"'\",\n",
       " 't',\n",
       " 'be',\n",
       " 'learned',\n",
       " 'through',\n",
       " 'studying',\n",
       " '.',\n",
       " 'I',\n",
       " 'have',\n",
       " 'studied',\n",
       " 'all',\n",
       " 'life',\n",
       " 'but',\n",
       " 'haven',\n",
       " \"'\",\n",
       " 't',\n",
       " 'got',\n",
       " 'any',\n",
       " 'success']"
      ]
     },
     "execution_count": 37,
     "metadata": {},
     "output_type": "execute_result"
    }
   ],
   "source": [
    "#WorkPunct tokenizer creates , . ' and \" as individual Tokens\n",
    "\n",
    "tokenizer=nltk.tokenize.WordPunctTokenizer()\n",
    "tokenizer.tokenize(text)"
   ]
  },
  {
   "cell_type": "code",
   "execution_count": 17,
   "metadata": {},
   "outputs": [],
   "source": [
    "# Lemmatization\n",
    "# Next we want to ensure that tokens in the text are normalised\n",
    "# Meaning study and studying are treated in the same way\n",
    "# This can be achieved by using either stemming or lemmatization\n",
    "\n",
    "#Stemming:Chops off suffixes.Uses Porter Stemming method.Disadvantage is that is results in non-words\n",
    "#Lemmatization refers to doing things keeping usage and morphology in mind\n",
    "#It returns the base or dictionary form of the word which is known as lemma\n",
    "#For lemmatization we use WordNetLemmatizer found in NLTK library"
   ]
  },
  {
   "cell_type": "code",
   "execution_count": 38,
   "metadata": {},
   "outputs": [
    {
     "name": "stdout",
     "output_type": "stream",
     "text": [
      "['I', 'do', \"n't\", 'like', 'to', 'study', '.', 'All', 'the', 'concepts', 'ca', \"n't\", 'be', 'learned', 'through', 'studying', '.', 'I', 'have', 'studied', 'all', 'life', 'but', 'have', \"n't\", 'got', 'any', 'success']\n"
     ]
    }
   ],
   "source": [
    "# Stemming example\n",
    "#Lets first tokenize this\n",
    "\n",
    "tokenizer= nltk.tokenize.TreebankWordTokenizer()\n",
    "tokens=tokenizer.tokenize(text)\n",
    "print(tokens)\n"
   ]
  },
  {
   "cell_type": "code",
   "execution_count": 39,
   "metadata": {},
   "outputs": [
    {
     "data": {
      "text/plain": [
       "\"I do n't like to studi . all the concept ca n't be learn through studi . I have studi all life but have n't got ani success\""
      ]
     },
     "execution_count": 39,
     "metadata": {},
     "output_type": "execute_result"
    }
   ],
   "source": [
    "#Let's use Stemming\n",
    "\n",
    "stemmer = nltk.stem.PorterStemmer()\n",
    "\" \".join(stemmer.stem(i) for i in tokens)"
   ]
  },
  {
   "cell_type": "code",
   "execution_count": 22,
   "metadata": {},
   "outputs": [],
   "source": [
    "# We can see the following things\n",
    "# learned has been converted to lean\n",
    "# studying has been converted to studyi\n",
    "# In general sses forms get converted to ss: Example caresses-->caress\n",
    "# ies --> i : Example studies-->studi\n",
    "# s-->singular form: Example cats-->cat"
   ]
  },
  {
   "cell_type": "code",
   "execution_count": 41,
   "metadata": {},
   "outputs": [
    {
     "data": {
      "text/plain": [
       "\"I do n't like to study . All the concepts ca n't be learn through study . I have study all life but have n't get any success\""
      ]
     },
     "execution_count": 41,
     "metadata": {},
     "output_type": "execute_result"
    }
   ],
   "source": [
    "#Let's use Lemmatizer and compare the outputs\n",
    "lemma = nltk.stem.WordNetLemmatizer()\n",
    "\" \".join(lemma.lemmatize(i,'v') for i in tokens)\n",
    "# Here we can see that an extra argument in the form of 'v'(verb) has been provided\n",
    "# This is to explicitly specify the Part of Speech(POS)\n",
    "# If we dont specify the POS then WordNetLemmatizer assumes everything to be noun and hence \n",
    "# Inflectional various forms of the same root word will return different results"
   ]
  },
  {
   "cell_type": "code",
   "execution_count": 45,
   "metadata": {},
   "outputs": [
    {
     "data": {
      "text/plain": [
       "'run running ran'"
      ]
     },
     "execution_count": 45,
     "metadata": {},
     "output_type": "execute_result"
    }
   ],
   "source": [
    "# Not supplying POS\n",
    "\" \".join(lemma.lemmatize(i) for i in ['run','running','ran'])\n",
    "# As can be seen that it in absence of POS, it doesnt do lemmatization properly"
   ]
  },
  {
   "cell_type": "code",
   "execution_count": 47,
   "metadata": {},
   "outputs": [
    {
     "data": {
      "text/plain": [
       "'run run run'"
      ]
     },
     "execution_count": 47,
     "metadata": {},
     "output_type": "execute_result"
    }
   ],
   "source": [
    "# Supplying POS\n",
    "\" \".join(lemma.lemmatize(i,'v') for i in ['run','running','ran'])"
   ]
  },
  {
   "cell_type": "code",
   "execution_count": 52,
   "metadata": {},
   "outputs": [
    {
     "name": "stdout",
     "output_type": "stream",
     "text": [
      "[\"n't\", 'like', 'study', '.', 'concepts', 'ca', \"n't\", 'learn', 'study', '.', 'study', 'life', \"n't\", 'get', 'success']\n"
     ]
    }
   ],
   "source": [
    "# StopWord Removal\n",
    "# In sentences there are often words that dont provide any additional information\n",
    "# These are a,is,the,etc\n",
    "# Before any text analysis, these have to be removed as well\n",
    "\n",
    "from nltk.corpus import stopwords\n",
    "stop = set(stopwords.words('english'))# This is a set\n",
    "\n",
    "# Lemmatization\n",
    "sentnc=\" \".join(lemma.lemmatize(i,'v') for i in tokens)\n",
    "\n",
    "# Removing Stop word\n",
    "clen_sentnc=[x for x in sentnc.lower().split() if x not in stop]\n",
    "print(clen_sentnc)"
   ]
  },
  {
   "cell_type": "code",
   "execution_count": 96,
   "metadata": {},
   "outputs": [
    {
     "data": {
      "text/plain": [
       "'get'"
      ]
     },
     "execution_count": 96,
     "metadata": {},
     "output_type": "execute_result"
    }
   ],
   "source": [
    "# Custom stop word list can also be created to remove additional words\n",
    "# For isntance, lets say word 'get' has to be removed from clen_sentnc\n",
    "# Updating the 'stop' list\n",
    "stop_new=list(stop)\n",
    "stop_new.append('get')\n",
    "\n",
    "#Checking if 'get' has been added to the new stop list\n",
    "stop_new[len(stop_new)-1]"
   ]
  },
  {
   "cell_type": "code",
   "execution_count": 102,
   "metadata": {},
   "outputs": [
    {
     "data": {
      "text/plain": [
       "[\"n't\",\n",
       " 'like',\n",
       " 'study',\n",
       " '.',\n",
       " 'concepts',\n",
       " 'ca',\n",
       " \"n't\",\n",
       " 'learn',\n",
       " 'study',\n",
       " '.',\n",
       " 'study',\n",
       " 'life',\n",
       " \"n't\",\n",
       " 'success']"
      ]
     },
     "execution_count": 102,
     "metadata": {},
     "output_type": "execute_result"
    }
   ],
   "source": [
    "# Removing 'get' from the list\n",
    "[x for x in clen_sentnc if x not in stop_new ]"
   ]
  }
 ],
 "metadata": {
  "kernelspec": {
   "display_name": "Python 3",
   "language": "python",
   "name": "python3"
  },
  "language_info": {
   "codemirror_mode": {
    "name": "ipython",
    "version": 3
   },
   "file_extension": ".py",
   "mimetype": "text/x-python",
   "name": "python",
   "nbconvert_exporter": "python",
   "pygments_lexer": "ipython3",
   "version": "3.7.1"
  }
 },
 "nbformat": 4,
 "nbformat_minor": 2
}

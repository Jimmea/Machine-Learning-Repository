{
 "cells": [
  {
   "cell_type": "code",
   "execution_count": 1,
   "metadata": {},
   "outputs": [],
   "source": [
    "# Importing the libraries\n",
    "import nltk\n",
    "import requests # requests is an HTTP library written in python\n",
    "import re # for regular epxression\n",
    "from bs4 import BeautifulSoup # for web scraping\n"
   ]
  },
  {
   "cell_type": "code",
   "execution_count": 11,
   "metadata": {},
   "outputs": [
    {
     "data": {
      "text/plain": [
       "str"
      ]
     },
     "execution_count": 11,
     "metadata": {},
     "output_type": "execute_result"
    }
   ],
   "source": [
    "# Lets specify the URL from which we want to parse data\n",
    "URL = 'https://en.wikipedia.org/wiki/Machine_learning'\n",
    "r = requests.get(URL)\n",
    "page = r.text\n",
    "type(page)\n",
    "\n"
   ]
  },
  {
   "cell_type": "code",
   "execution_count": 48,
   "metadata": {},
   "outputs": [
    {
     "name": "stdout",
     "output_type": "stream",
     "text": [
      "<!DOCTYPE html>\n",
      "<html class=\"client-nojs\" lang=\"en\" dir=\"ltr\">\n",
      "<head>\n",
      "<meta charset=\"UTF-8\"/>\n",
      "<title>Machine learning - Wikipedia</title>\n",
      "<script>document.documentElement.className=document.documentElement.className.replace(/(^|\\s)client-nojs(\\s|$)/,\"$1client-js$2\");RLCONF={\"wgCanonicalNamespace\":\"\",\"wgCanonicalSpecialPageName\":!1,\"wgNamespaceNumber\":0,\"wgPageName\":\"Machine_learning\",\"wgTitle\":\"Machine learning\",\"wgCurRevisionId\":901961606,\"wgRevisionId\":901961606,\"wgArticleId\":233488,\"wgIsArticle\":!0,\"wgIsRedirect\":!1,\"wgAction\":\"view\",\"wgUserName\":null,\"wgUserGroups\":[\"*\"],\"wgCategories\":[\"CS1 maint: Multiple names: authors list\",\"CS1 maint: others\",\"Wikipedia articles needing clarification from November 2018\",\"Commons category link from Wikidata\",\"Machine learning\",\"Cybernetics\",\"Learning\"],\"wgBreakFrames\":!1,\"wgPageContentLanguage\":\"en\",\"wgPageContentModel\":\"wikitext\",\"wgSeparatorTransformTable\":[\"\",\"\"],\"wgDigitTransformTable\":[\"\",\"\"],\"wgDefaultDateFormat\":\"dmy\",\"wgMonthNames\":[\"\",\"January\",\"February\",\"March\",\"April\",\"May\",\"June\",\"July\",\"August\",\"September\",\"October\",\"November\",\"December\"],\"wgMonthNamesShort\":[\"\",\n",
      "\"Jan\",\"Feb\",\"Mar\",\"Apr\",\"May\",\"Jun\",\"Jul\",\"Aug\",\"Sep\",\"Oct\",\"Nov\",\"Dec\"],\"wgRelevantPageName\":\"Machine_learning\",\"wgRelevantArticleId\":233488,\"wgRequestId\":\"XQYNjQpAADoAAGSh2rsAAADO\",\"wgCSPNonce\":!1,\"wgIsProbablyEditable\":!0,\"wgRelevantPageIsProbablyEditable\":!0,\"wgRestrictionEdit\":[],\"wgRestrictionMove\":[],\"wgMediaViewerOnClick\":!0,\"wgMediaViewerEnabledByDefault\":!0,\"wgPopupsReferencePreviews\":!1,\"wgPopupsConflictsWithNavPopupGadget\":!1,\"wgVisualEditor\":{\"pageLanguageCode\":\"en\",\"pageLanguageDir\":\"ltr\",\"pageVariantFallbacks\":\"en\"},\"wgMFDisplayWikibaseDescriptions\":{\"search\":!0,\"nearby\":!0,\"watchlist\":!0,\"tagline\":!1},\"wgWMESchemaEditAttemptStepOversample\":!1,\"wgPoweredByHHVM\":!0,\"wgULSCurrentAutonym\":\"English\",\"wgNoticeProject\":\"wikipedia\",\"wgCentralNoticeCategoriesUsingLegacy\":[\"Fundraising\",\"fundraising\"],\"wgWikibaseItemId\":\"Q2539\",\"wgCentralAuthMobi\n"
     ]
    }
   ],
   "source": [
    "# Lets check the contents of page\n",
    "print(page[0:2000])\n",
    "# We can see that page contains the html tags along with values"
   ]
  },
  {
   "cell_type": "markdown",
   "metadata": {},
   "source": [
    "***Lets try and extract paragraph from page. We need to use 'p' as the html tag to parse paragraph***"
   ]
  },
  {
   "cell_type": "code",
   "execution_count": 50,
   "metadata": {},
   "outputs": [
    {
     "name": "stdout",
     "output_type": "stream",
     "text": [
      "Machine learning (ML) is the scientific study of algorithms and statistical models that computer systems use in order to perform a specific task effectively without using explicit instructions, relying on patterns and inference instead. It is seen as a subset of artificial intelligence. Machine learning algorithms build a mathematical model based on sample data, known as \"training data\", in order to make predictions or decisions without being explicitly programmed to perform the task.[1][2]:2 Machine learning algorithms are used in a wide variety of applications, such as email filtering, and computer vision, where it is infeasible to develop an algorithm of specific instructions for performing the task. Machine learning is closely related to computational statistics, which focuses on making predictions using computers. The study of mathematical optimization delivers methods, theory and application domains to the field of machine learning. Data mining is a field of study within machine learning, and focuses on exploratory data analysis through unsupervised learning.[3][4] In its application across business problems, machine learning is also referred to as predictive analytics.\n",
      "\n",
      "The name machine learning was coined in 1959 by Arthur Samuel.[5] Tom M. Mitchell provided a widely quoted, more formal definition of the algorithms studied in the machine learning field: \"A computer program is said to learn from experience E with respect to some class of tasks T and performance measure P if its performance at tasks in T, as measured by P,  improves with experience E.\"[6] This definition of the tasks in which machine learning is concerned offers a fundamentally operational definition rather than defining the field in cognitive terms. This follows Alan Turing's proposal in his paper \"Computing Machinery and Intelligence\", in which the question \"Can machines think?\" is replaced with the question \"Can machines do what we (as thinking entities) can do?\".[7] In Turing's proposal the various characteristics that could be possessed by a thinking machine and the various implications in constructing one are exposed.\n",
      "\n",
      "\n",
      "\n"
     ]
    }
   ],
   "source": [
    "# Lets use BeautifulSoup to parse the page\n",
    "soup=BeautifulSoup(page,\"html.parser\")\n",
    "paras = soup.find_all('p')\n",
    "l1_para = []\n",
    "\n",
    "l1_para=[]\n",
    "for i in paras:\n",
    "    l1_para.append(i.get_text())\n",
    "\n",
    "\n",
    "# Printing the first few paragraphs\n",
    "for j in l1_para[0:3]:\n",
    "    print(j)\n",
    "    "
   ]
  },
  {
   "cell_type": "code",
   "execution_count": 51,
   "metadata": {},
   "outputs": [],
   "source": [
    "# This can be now stored in a data frame and subsequently used for analysis"
   ]
  },
  {
   "cell_type": "markdown",
   "metadata": {},
   "source": [
    "***Lets try to get all the embedded links in the page. We will use 'a' to parse the page***"
   ]
  },
  {
   "cell_type": "code",
   "execution_count": 54,
   "metadata": {},
   "outputs": [
    {
     "name": "stdout",
     "output_type": "stream",
     "text": [
      "http://eprints.ecs.soton.ac.uk/12954/\n",
      "http://projecteuclid.org/download/pdf_1/euclid.ss/1009213726\n",
      "http://www-bcf.usc.edu/~gareth/ISL/\n",
      "http://www.athenasc.com/dpbook.html\n",
      "http://www.athenasc.com/ndpbook.html\n",
      "http://machinelearning.wustl.edu/mlpapers/paper_files/AISTATS2011_CoatesNL11.pdf\n",
      "http://www.cs.cmu.edu/~efros/courses/LBMV07/Papers/csurka-eccv-04.pdf\n",
      "http://www.dsp.utoronto.ca/~haiping/Publication/SurveyMSL_PR2011.pdf\n",
      "http://adsabs.harvard.edu/abs/2015ISPL...22...45T\n",
      "http://eprints.whiterose.ac.uk/767/1/hodgevj4.pdf\n",
      "http://www.csee.umbc.edu/~kolari1/Mining/ngdm/dokas.pdf\n",
      "http://ftp.cs.yale.edu/publications/techreports/tr192.pdf\n",
      "http://dl.acm.org/citation.cfm?id=1623364\n",
      "http://citeseerx.ist.psu.edu/viewdoc/download?doi=10.1.1.149.802&rep=rep1&type=pdf\n",
      "http://adsabs.harvard.edu/abs/1994mlns.book.....M\n",
      "http://ieeexplore.ieee.org/iel5/10207/6052357/06052374.pdf?arnumber=6052374\n",
      "http://ai.googleblog.com/2017/04/federated-learning-collaborative.html\n",
      "http://techblog.netflix.com/2012/04/netflix-recommendations-beyond-5-stars.html\n",
      "http://adsabs.harvard.edu/abs/2017Sci...356..183C\n",
      "http://papers.nips.cc/paper/6227-an-algorithm-for-l1-nearest-neighbor-search-via-monotonic-embedding.pdf\n",
      "http://web.cs.iastate.edu/~jtian/cs573/Papers/Kohavi-IJCAI-95.pdf\n",
      "http://www.nickbostrom.com/ethics/artificial-intelligence.pdf\n",
      "http://ai.stanford.edu/people/nilsson/mlbook.html\n",
      "http://www.inference.phy.cam.ac.uk/mackay/itila/book.html\n",
      "http://aima.cs.berkeley.edu/\n",
      "http://world.std.com/~rjs/indinf56.pdf\n",
      "http://projecteuclid.org/download/pdf_1/euclid.ss/1009213726\n"
     ]
    }
   ],
   "source": [
    "\n",
    "soup=BeautifulSoup(page,\"html.parser\")\n",
    "url_links = soup.findAll('a',attrs={'href': re.compile(\"^http://\")}) # This matches any object starting with http\n",
    "l1_url = []\n",
    "\n",
    "for links in url_links[0:50]:\n",
    "    print(links.get('href'))\n",
    "    l1_url.append(links.get('href'))\n"
   ]
  },
  {
   "cell_type": "markdown",
   "metadata": {},
   "source": [
    "***Let us now try to extract table from the URL***"
   ]
  },
  {
   "cell_type": "code",
   "execution_count": 2,
   "metadata": {},
   "outputs": [],
   "source": [
    "# We will try and extract the inflation rate in India\n",
    "URL = 'https://en.wikipedia.org/wiki/Inflation_in_India'\n",
    "r = requests.get(URL)\n",
    "page = r.text"
   ]
  },
  {
   "cell_type": "code",
   "execution_count": 3,
   "metadata": {},
   "outputs": [
    {
     "data": {
      "text/plain": [
       "bs4.element.Tag"
      ]
     },
     "execution_count": 3,
     "metadata": {},
     "output_type": "execute_result"
    }
   ],
   "source": [
    "soup=BeautifulSoup(page,\"html.parser\")\n",
    "url_tbl = soup.find('table')\n",
    "type(url_tbl)"
   ]
  },
  {
   "cell_type": "code",
   "execution_count": 4,
   "metadata": {},
   "outputs": [
    {
     "data": {
      "text/plain": [
       "<table class=\"wikitable sortable\">\n",
       "<tbody><tr>\n",
       "<th>Year</th>\n",
       "<th>Price Index<br/> (IMF)</th>\n",
       "<th>Cost Index<br/> (CBDT)</th>\n",
       "<th>Gold Index<br/> (RBI)</th>\n",
       "<th>Silver Index<br/> (RBI)</th>\n",
       "<th>House Index<br/> (RBI)\n",
       "</th></tr>\n",
       "<tr>\n",
       "<td>1970</td>\n",
       "<td>-</td>\n",
       "<td>-</td>\n",
       "<td>0.447</td>\n",
       "<td>1.383</td>\n",
       "<td>-\n",
       "</td></tr>\n",
       "<tr>\n",
       "<td>1971</td>\n",
       "<td>-</td>\n",
       "<td>-</td>\n",
       "<td>0.516</td>\n",
       "<td>1.211</td>\n",
       "<td>-\n",
       "</td></tr>\n",
       "<tr>\n",
       "<td>1972</td>\n",
       "<td>-</td>\n",
       "<td>-</td>\n",
       "<td>0.801</td>\n",
       "<td>1.529</td>\n",
       "<td>-\n",
       "</td></tr>\n",
       "<tr>\n",
       "<td>1973</td>\n",
       "<td>-</td>\n",
       "<td>-</td>\n",
       "<td>1.455</td>\n",
       "<td>2.698</td>\n",
       "<td>-\n",
       "</td></tr>\n",
       "<tr>\n",
       "<td>1974</td>\n",
       "<td>-</td>\n",
       "<td>-</td>\n",
       "<td>2.123</td>\n",
       "<td>3.902</td>\n",
       "<td>-\n",
       "</td></tr>\n",
       "<tr>\n",
       "<td>1975</td>\n",
       "<td>-</td>\n",
       "<td>-</td>\n",
       "<td>2.078</td>\n",
       "<td>4.066</td>\n",
       "<td>-\n",
       "</td></tr>\n",
       "<tr>\n",
       "<td>1976</td>\n",
       "<td>-</td>\n",
       "<td>-</td>\n",
       "<td>1.847</td>\n",
       "<td>4.305</td>\n",
       "<td>-\n",
       "</td></tr>\n",
       "<tr>\n",
       "<td>1977</td>\n",
       "<td>-</td>\n",
       "<td>-</td>\n",
       "<td>2.169</td>\n",
       "<td>4.352</td>\n",
       "<td>-\n",
       "</td></tr>\n",
       "<tr>\n",
       "<td>1978</td>\n",
       "<td>-</td>\n",
       "<td>-</td>\n",
       "<td>2.750</td>\n",
       "<td>5.197</td>\n",
       "<td>-\n",
       "</td></tr>\n",
       "<tr>\n",
       "<td>1979</td>\n",
       "<td>-</td>\n",
       "<td>-</td>\n",
       "<td>5.264</td>\n",
       "<td>15.106</td>\n",
       "<td>-\n",
       "</td></tr>\n",
       "<tr>\n",
       "<td>1980</td>\n",
       "<td>8.960</td>\n",
       "<td>-</td>\n",
       "<td>7.423</td>\n",
       "<td>13.401</td>\n",
       "<td>-\n",
       "</td></tr>\n",
       "<tr>\n",
       "<td>1981</td>\n",
       "<td>10.094</td>\n",
       "<td>10.000</td>\n",
       "<td>6.049</td>\n",
       "<td>8.724</td>\n",
       "<td>-\n",
       "</td></tr>\n",
       "<tr>\n",
       "<td>1982</td>\n",
       "<td>10.875</td>\n",
       "<td>10.900</td>\n",
       "<td>6.251</td>\n",
       "<td>9.431</td>\n",
       "<td>-\n",
       "</td></tr>\n",
       "<tr>\n",
       "<td>1983</td>\n",
       "<td>12.241</td>\n",
       "<td>11.600</td>\n",
       "<td>6.710</td>\n",
       "<td>11.722</td>\n",
       "<td>-\n",
       "</td></tr>\n",
       "<tr>\n",
       "<td>1984</td>\n",
       "<td>13.038</td>\n",
       "<td>12.500</td>\n",
       "<td>6.468</td>\n",
       "<td>9.367</td>\n",
       "<td>-\n",
       "</td></tr>\n",
       "<tr>\n",
       "<td>1985</td>\n",
       "<td>13.853</td>\n",
       "<td>13.300</td>\n",
       "<td>6.448</td>\n",
       "<td>7.987</td>\n",
       "<td>-\n",
       "</td></tr>\n",
       "<tr>\n",
       "<td>1986</td>\n",
       "<td>15.085</td>\n",
       "<td>14.000</td>\n",
       "<td>7.885</td>\n",
       "<td>7.400</td>\n",
       "<td>-\n",
       "</td></tr>\n",
       "<tr>\n",
       "<td>1987</td>\n",
       "<td>16.451</td>\n",
       "<td>15.000</td>\n",
       "<td>9.562</td>\n",
       "<td>10.055</td>\n",
       "<td>-\n",
       "</td></tr>\n",
       "<tr>\n",
       "<td>1988</td>\n",
       "<td>17.638</td>\n",
       "<td>16.100</td>\n",
       "<td>9.801</td>\n",
       "<td>9.905</td>\n",
       "<td>-\n",
       "</td></tr>\n",
       "<tr>\n",
       "<td>1989</td>\n",
       "<td>18.444</td>\n",
       "<td>17.200</td>\n",
       "<td>10.315</td>\n",
       "<td>9.487</td>\n",
       "<td>-\n",
       "</td></tr>\n",
       "<tr>\n",
       "<td>1990</td>\n",
       "<td>20.509</td>\n",
       "<td>18.200</td>\n",
       "<td>10.821</td>\n",
       "<td>8.597</td>\n",
       "<td>-\n",
       "</td></tr>\n",
       "<tr>\n",
       "<td>1991</td>\n",
       "<td>23.274</td>\n",
       "<td>19.900</td>\n",
       "<td>14.205</td>\n",
       "<td>10.899</td>\n",
       "<td>-\n",
       "</td></tr>\n",
       "<tr>\n",
       "<td>1992</td>\n",
       "<td>25.570</td>\n",
       "<td>22.300</td>\n",
       "<td>16.664</td>\n",
       "<td>12.499</td>\n",
       "<td>-\n",
       "</td></tr>\n",
       "<tr>\n",
       "<td>1993</td>\n",
       "<td>27.431</td>\n",
       "<td>24.400</td>\n",
       "<td>18.831</td>\n",
       "<td>15.803</td>\n",
       "<td>-\n",
       "</td></tr>\n",
       "<tr>\n",
       "<td>1994</td>\n",
       "<td>30.249</td>\n",
       "<td>25.900</td>\n",
       "<td>19.320</td>\n",
       "<td>17.291</td>\n",
       "<td>-\n",
       "</td></tr>\n",
       "<tr>\n",
       "<td>1995</td>\n",
       "<td>33.263</td>\n",
       "<td>28.100</td>\n",
       "<td>20.942</td>\n",
       "<td>19.364</td>\n",
       "<td>-\n",
       "</td></tr>\n",
       "<tr>\n",
       "<td>1996</td>\n",
       "<td>36.400</td>\n",
       "<td>30.500</td>\n",
       "<td>21.428</td>\n",
       "<td>19.208</td>\n",
       "<td>-\n",
       "</td></tr>\n",
       "<tr>\n",
       "<td>1997</td>\n",
       "<td>38.891</td>\n",
       "<td>33.100</td>\n",
       "<td>18.879</td>\n",
       "<td>20.513</td>\n",
       "<td>-\n",
       "</td></tr>\n",
       "<tr>\n",
       "<td>1998</td>\n",
       "<td>43.996</td>\n",
       "<td>35.100</td>\n",
       "<td>19.761</td>\n",
       "<td>23.813</td>\n",
       "<td>-\n",
       "</td></tr>\n",
       "<tr>\n",
       "<td>1999</td>\n",
       "<td>46.503</td>\n",
       "<td>38.900</td>\n",
       "<td>19.483</td>\n",
       "<td>24.288</td>\n",
       "<td>-\n",
       "</td></tr>\n",
       "<tr>\n",
       "<td>2000</td>\n",
       "<td>49.129</td>\n",
       "<td>40.600</td>\n",
       "<td>20.038</td>\n",
       "<td>23.700</td>\n",
       "<td>-\n",
       "</td></tr>\n",
       "<tr>\n",
       "<td>2001</td>\n",
       "<td>51.249</td>\n",
       "<td>42.600</td>\n",
       "<td>21.301</td>\n",
       "<td>22.362</td>\n",
       "<td>-\n",
       "</td></tr>\n",
       "<tr>\n",
       "<td>2002</td>\n",
       "<td>53.286</td>\n",
       "<td>44.700</td>\n",
       "<td>25.310</td>\n",
       "<td>24.228</td>\n",
       "<td>-\n",
       "</td></tr>\n",
       "<tr>\n",
       "<td>2003</td>\n",
       "<td>55.342</td>\n",
       "<td>46.300</td>\n",
       "<td>27.867</td>\n",
       "<td>26.608</td>\n",
       "<td>-\n",
       "</td></tr>\n",
       "<tr>\n",
       "<td>2004</td>\n",
       "<td>57.462</td>\n",
       "<td>48.000</td>\n",
       "<td>29.880</td>\n",
       "<td>32.555</td>\n",
       "<td>-\n",
       "</td></tr>\n",
       "<tr>\n",
       "<td>2005</td>\n",
       "<td>59.996</td>\n",
       "<td>49.700</td>\n",
       "<td>33.951</td>\n",
       "<td>38.057</td>\n",
       "<td>-\n",
       "</td></tr>\n",
       "<tr>\n",
       "<td>2006</td>\n",
       "<td>64.016</td>\n",
       "<td>51.900</td>\n",
       "<td>45.688</td>\n",
       "<td>60.446</td>\n",
       "<td>-\n",
       "</td></tr>\n",
       "<tr>\n",
       "<td>2007</td>\n",
       "<td>67.985</td>\n",
       "<td>55.100</td>\n",
       "<td>49.485</td>\n",
       "<td>62.460</td>\n",
       "<td>-\n",
       "</td></tr>\n",
       "<tr>\n",
       "<td>2008</td>\n",
       "<td>74.173</td>\n",
       "<td>58.200</td>\n",
       "<td>64.084</td>\n",
       "<td>66.864</td>\n",
       "<td>-\n",
       "</td></tr>\n",
       "<tr>\n",
       "<td>2009</td>\n",
       "<td>82.332</td>\n",
       "<td>63.200</td>\n",
       "<td>77.849</td>\n",
       "<td>79.933</td>\n",
       "<td>-\n",
       "</td></tr>\n",
       "<tr>\n",
       "<td>2010</td>\n",
       "<td>90.153</td>\n",
       "<td>71.100</td>\n",
       "<td>94.687</td>\n",
       "<td>116.836</td>\n",
       "<td>53.300\n",
       "</td></tr>\n",
       "<tr>\n",
       "<td>2011</td>\n",
       "<td>98.718</td>\n",
       "<td>75.800</td>\n",
       "<td>126.970</td>\n",
       "<td>181.068</td>\n",
       "<td>67.050\n",
       "</td></tr>\n",
       "<tr>\n",
       "<td>2012</td>\n",
       "<td>108.590</td>\n",
       "<td>85.200</td>\n",
       "<td>144.595</td>\n",
       "<td>177.763</td>\n",
       "<td>80.400\n",
       "</td></tr>\n",
       "<tr>\n",
       "<td>2013</td>\n",
       "<td>118.797</td>\n",
       "<td>93.900</td>\n",
       "<td>128.696</td>\n",
       "<td>138.810</td>\n",
       "<td>90.250\n",
       "</td></tr>\n",
       "<tr>\n",
       "<td>2014</td>\n",
       "<td>125.687</td>\n",
       "<td>102.400</td>\n",
       "<td>122.602</td>\n",
       "<td>118.703</td>\n",
       "<td>106.050\n",
       "</td></tr>\n",
       "<tr>\n",
       "<td>2015</td>\n",
       "<td>131.846</td>\n",
       "<td>108.100</td>\n",
       "<td>121.157</td>\n",
       "<td>106.972</td>\n",
       "<td>109.550\n",
       "</td></tr>\n",
       "<tr>\n",
       "<td>2016</td>\n",
       "<td>137.779</td>\n",
       "<td>112.500</td>\n",
       "<td>135.582</td>\n",
       "<td>127.866</td>\n",
       "<td>121.000\n",
       "</td></tr>\n",
       "<tr>\n",
       "<td>2017</td>\n",
       "<td>142.742</td>\n",
       "<td>115.900</td>\n",
       "<td>133.092</td>\n",
       "<td>116.539</td>\n",
       "<td>129.100\n",
       "</td></tr>\n",
       "<tr>\n",
       "<td>2018</td>\n",
       "<td>149.816</td>\n",
       "<td>119.280</td>\n",
       "<td>141.901</td>\n",
       "<td>115.134</td>\n",
       "<td>133.350\n",
       "</td></tr></tbody></table>"
      ]
     },
     "execution_count": 4,
     "metadata": {},
     "output_type": "execute_result"
    }
   ],
   "source": [
    "url_tbl\n",
    "\n",
    "# If you look at what inside of url_tbl, then you will find the following\n",
    "# tr: It is used for table row\n",
    "# th: It is used for table heading(column heading)\n",
    "# td: Used to access each column/dimension"
   ]
  },
  {
   "cell_type": "code",
   "execution_count": 5,
   "metadata": {},
   "outputs": [
    {
     "data": {
      "text/plain": [
       "['Year',\n",
       " 'Price Index (IMF)',\n",
       " 'Cost Index (CBDT)',\n",
       " 'Gold Index (RBI)',\n",
       " 'Silver Index (RBI)',\n",
       " 'House Index (RBI)\\n']"
      ]
     },
     "execution_count": 5,
     "metadata": {},
     "output_type": "execute_result"
    }
   ],
   "source": [
    "# Lest extract the column names from the table\n",
    "# As can be seen that the first 'tr' contains the headers\n",
    "headings = [th.get_text() for th in url_tbl.find(\"tr\").find_all(\"th\")]\n",
    "headings # 6 columns\n"
   ]
  },
  {
   "cell_type": "code",
   "execution_count": 6,
   "metadata": {},
   "outputs": [
    {
     "data": {
      "text/plain": [
       "<tr>\n",
       "<td>1970</td>\n",
       "<td>-</td>\n",
       "<td>-</td>\n",
       "<td>0.447</td>\n",
       "<td>1.383</td>\n",
       "<td>-\n",
       "</td></tr>"
      ]
     },
     "execution_count": 6,
     "metadata": {},
     "output_type": "execute_result"
    }
   ],
   "source": [
    "url_tbl.find_all(\"tr\")[1] # Gives the Year,inflation rate, and other details for 1970"
   ]
  },
  {
   "cell_type": "code",
   "execution_count": 75,
   "metadata": {},
   "outputs": [
    {
     "data": {
      "text/plain": [
       "<tr>\n",
       "<td>1971</td>\n",
       "<td>-</td>\n",
       "<td>-</td>\n",
       "<td>0.516</td>\n",
       "<td>1.211</td>\n",
       "<td>-\n",
       "</td></tr>"
      ]
     },
     "execution_count": 75,
     "metadata": {},
     "output_type": "execute_result"
    }
   ],
   "source": [
    "url_tbl.find_all(\"tr\")[2] # Gives the Year,inflation rate, and other details for 1971"
   ]
  },
  {
   "cell_type": "code",
   "execution_count": 8,
   "metadata": {},
   "outputs": [
    {
     "data": {
      "text/plain": [
       "[<td>1975</td>, <td>-</td>, <td>-</td>, <td>2.078</td>, <td>4.066</td>, <td>-\n",
       " </td>]"
      ]
     },
     "execution_count": 8,
     "metadata": {},
     "output_type": "execute_result"
    }
   ],
   "source": [
    "# Lets extact the data in the row\n",
    "x=url_tbl.find_all(\"tr\")[6].find_all(\"td\")\n",
    "x\n",
    "# x contains records for the year 1975"
   ]
  },
  {
   "cell_type": "code",
   "execution_count": 9,
   "metadata": {},
   "outputs": [
    {
     "name": "stdout",
     "output_type": "stream",
     "text": [
      "1975\n",
      "-\n",
      "-\n",
      "2.078\n",
      "4.066\n",
      "-\n",
      "\n"
     ]
    }
   ],
   "source": [
    "# We can use get_text() to extract the data for 1975 year\n",
    "for i in x:\n",
    "    print(i.get_text())\n"
   ]
  },
  {
   "cell_type": "markdown",
   "metadata": {},
   "source": [
    "***In order to extract data corresponding to every records we have to do the following things:***\n",
    "1. First get to all tr\n",
    "2. For each tr, exatract text from each td \n"
   ]
  },
  {
   "cell_type": "code",
   "execution_count": 10,
   "metadata": {},
   "outputs": [
    {
     "data": {
      "text/plain": [
       "[['1970', '-', '-', '0.447', '1.383', '-\\n'],\n",
       " ['1971', '-', '-', '0.516', '1.211', '-\\n'],\n",
       " ['1972', '-', '-', '0.801', '1.529', '-\\n'],\n",
       " ['1973', '-', '-', '1.455', '2.698', '-\\n'],\n",
       " ['1974', '-', '-', '2.123', '3.902', '-\\n'],\n",
       " ['1975', '-', '-', '2.078', '4.066', '-\\n'],\n",
       " ['1976', '-', '-', '1.847', '4.305', '-\\n'],\n",
       " ['1977', '-', '-', '2.169', '4.352', '-\\n'],\n",
       " ['1978', '-', '-', '2.750', '5.197', '-\\n'],\n",
       " ['1979', '-', '-', '5.264', '15.106', '-\\n'],\n",
       " ['1980', '8.960', '-', '7.423', '13.401', '-\\n'],\n",
       " ['1981', '10.094', '10.000', '6.049', '8.724', '-\\n'],\n",
       " ['1982', '10.875', '10.900', '6.251', '9.431', '-\\n'],\n",
       " ['1983', '12.241', '11.600', '6.710', '11.722', '-\\n'],\n",
       " ['1984', '13.038', '12.500', '6.468', '9.367', '-\\n'],\n",
       " ['1985', '13.853', '13.300', '6.448', '7.987', '-\\n'],\n",
       " ['1986', '15.085', '14.000', '7.885', '7.400', '-\\n'],\n",
       " ['1987', '16.451', '15.000', '9.562', '10.055', '-\\n'],\n",
       " ['1988', '17.638', '16.100', '9.801', '9.905', '-\\n'],\n",
       " ['1989', '18.444', '17.200', '10.315', '9.487', '-\\n']]"
      ]
     },
     "execution_count": 10,
     "metadata": {},
     "output_type": "execute_result"
    }
   ],
   "source": [
    "table_val2=[]\n",
    "\n",
    "for i in range(1,len(url_tbl.find_all(\"tr\"))):\n",
    "    table_val1=[]\n",
    "    for rows in url_tbl.find_all(\"tr\")[i].find_all(\"td\"):\n",
    "        table_val1.append(rows.get_text())\n",
    "    table_val2.append(table_val1)\n",
    "   \n",
    "table_val2[0:20]"
   ]
  },
  {
   "cell_type": "code",
   "execution_count": 15,
   "metadata": {},
   "outputs": [
    {
     "data": {
      "text/plain": [
       "['1970,-,-,0.447,1.383,-',\n",
       " '1971,-,-,0.516,1.211,-',\n",
       " '1972,-,-,0.801,1.529,-',\n",
       " '1973,-,-,1.455,2.698,-',\n",
       " '1974,-,-,2.123,3.902,-',\n",
       " '1975,-,-,2.078,4.066,-',\n",
       " '1976,-,-,1.847,4.305,-',\n",
       " '1977,-,-,2.169,4.352,-',\n",
       " '1978,-,-,2.750,5.197,-',\n",
       " '1979,-,-,5.264,15.106,-',\n",
       " '1980,8.960,-,7.423,13.401,-',\n",
       " '1981,10.094,10.000,6.049,8.724,-',\n",
       " '1982,10.875,10.900,6.251,9.431,-',\n",
       " '1983,12.241,11.600,6.710,11.722,-',\n",
       " '1984,13.038,12.500,6.468,9.367,-',\n",
       " '1985,13.853,13.300,6.448,7.987,-',\n",
       " '1986,15.085,14.000,7.885,7.400,-',\n",
       " '1987,16.451,15.000,9.562,10.055,-',\n",
       " '1988,17.638,16.100,9.801,9.905,-',\n",
       " '1989,18.444,17.200,10.315,9.487,-']"
      ]
     },
     "execution_count": 15,
     "metadata": {},
     "output_type": "execute_result"
    }
   ],
   "source": [
    "# Removing the \\n from the numbers\n",
    "table_val3=[]\n",
    "table_val3=[re.sub(\"\\n\", \"\", ','.join(x)) for x in table_val2]\n",
    "table_val3[0:20]"
   ]
  },
  {
   "cell_type": "code",
   "execution_count": 16,
   "metadata": {},
   "outputs": [
    {
     "name": "stdout",
     "output_type": "stream",
     "text": [
      "1971,-,-,0.516,1.211,-\n"
     ]
    }
   ],
   "source": [
    "from nltk import ngrams\n",
    "\n",
    "# Lets try to split an element from table_val3 using ngrams\n",
    "k1=ngrams(table_val3[1].split(),1)\n",
    " \n",
    "for i in k1:\n",
    "    print(''.join(i))"
   ]
  },
  {
   "cell_type": "code",
   "execution_count": 17,
   "metadata": {},
   "outputs": [
    {
     "data": {
      "text/plain": [
       "['1972,-,-,0.801,1.529,-']"
      ]
     },
     "execution_count": 17,
     "metadata": {},
     "output_type": "execute_result"
    }
   ],
   "source": [
    "# Combining the results to a list\n",
    "final_dfl2=[]\n",
    "for i in range(0,len(table_val3)):\n",
    "    final_dfl1=[]\n",
    "    for j in ngrams(table_val3[i].split(),1):\n",
    "        final_dfl1.append(''.join(j))\n",
    "    final_dfl2.append(final_dfl1)\n",
    "       \n",
    "final_dfl2[2]\n"
   ]
  },
  {
   "cell_type": "code",
   "execution_count": 18,
   "metadata": {},
   "outputs": [
    {
     "data": {
      "text/html": [
       "<div>\n",
       "<style scoped>\n",
       "    .dataframe tbody tr th:only-of-type {\n",
       "        vertical-align: middle;\n",
       "    }\n",
       "\n",
       "    .dataframe tbody tr th {\n",
       "        vertical-align: top;\n",
       "    }\n",
       "\n",
       "    .dataframe thead th {\n",
       "        text-align: right;\n",
       "    }\n",
       "</style>\n",
       "<table border=\"1\" class=\"dataframe\">\n",
       "  <thead>\n",
       "    <tr style=\"text-align: right;\">\n",
       "      <th></th>\n",
       "      <th>C1</th>\n",
       "    </tr>\n",
       "  </thead>\n",
       "  <tbody>\n",
       "    <tr>\n",
       "      <th>0</th>\n",
       "      <td>1970,-,-,0.447,1.383,-</td>\n",
       "    </tr>\n",
       "    <tr>\n",
       "      <th>1</th>\n",
       "      <td>1971,-,-,0.516,1.211,-</td>\n",
       "    </tr>\n",
       "    <tr>\n",
       "      <th>2</th>\n",
       "      <td>1972,-,-,0.801,1.529,-</td>\n",
       "    </tr>\n",
       "    <tr>\n",
       "      <th>3</th>\n",
       "      <td>1973,-,-,1.455,2.698,-</td>\n",
       "    </tr>\n",
       "    <tr>\n",
       "      <th>4</th>\n",
       "      <td>1974,-,-,2.123,3.902,-</td>\n",
       "    </tr>\n",
       "  </tbody>\n",
       "</table>\n",
       "</div>"
      ],
      "text/plain": [
       "                       C1\n",
       "0  1970,-,-,0.447,1.383,-\n",
       "1  1971,-,-,0.516,1.211,-\n",
       "2  1972,-,-,0.801,1.529,-\n",
       "3  1973,-,-,1.455,2.698,-\n",
       "4  1974,-,-,2.123,3.902,-"
      ]
     },
     "execution_count": 18,
     "metadata": {},
     "output_type": "execute_result"
    }
   ],
   "source": [
    "import pandas as pd\n",
    "df_tbl=pd.DataFrame(table_val3)\n",
    "df_tbl.head()\n",
    " \n",
    "df_tbl.columns=['C1']\n",
    "df_tbl.head()\n"
   ]
  },
  {
   "cell_type": "code",
   "execution_count": 19,
   "metadata": {},
   "outputs": [
    {
     "data": {
      "text/html": [
       "<div>\n",
       "<style scoped>\n",
       "    .dataframe tbody tr th:only-of-type {\n",
       "        vertical-align: middle;\n",
       "    }\n",
       "\n",
       "    .dataframe tbody tr th {\n",
       "        vertical-align: top;\n",
       "    }\n",
       "\n",
       "    .dataframe thead th {\n",
       "        text-align: right;\n",
       "    }\n",
       "</style>\n",
       "<table border=\"1\" class=\"dataframe\">\n",
       "  <thead>\n",
       "    <tr style=\"text-align: right;\">\n",
       "      <th></th>\n",
       "      <th>Year</th>\n",
       "      <th>Price Index (IMF)</th>\n",
       "      <th>Cost Index (CBDT)</th>\n",
       "      <th>Gold Index (RBI)</th>\n",
       "      <th>Silver Index (RBI)</th>\n",
       "      <th>House Index (RBI)</th>\n",
       "    </tr>\n",
       "  </thead>\n",
       "  <tbody>\n",
       "    <tr>\n",
       "      <th>0</th>\n",
       "      <td>1970</td>\n",
       "      <td>-</td>\n",
       "      <td>-</td>\n",
       "      <td>0.447</td>\n",
       "      <td>1.383</td>\n",
       "      <td>-</td>\n",
       "    </tr>\n",
       "    <tr>\n",
       "      <th>1</th>\n",
       "      <td>1971</td>\n",
       "      <td>-</td>\n",
       "      <td>-</td>\n",
       "      <td>0.516</td>\n",
       "      <td>1.211</td>\n",
       "      <td>-</td>\n",
       "    </tr>\n",
       "    <tr>\n",
       "      <th>2</th>\n",
       "      <td>1972</td>\n",
       "      <td>-</td>\n",
       "      <td>-</td>\n",
       "      <td>0.801</td>\n",
       "      <td>1.529</td>\n",
       "      <td>-</td>\n",
       "    </tr>\n",
       "    <tr>\n",
       "      <th>3</th>\n",
       "      <td>1973</td>\n",
       "      <td>-</td>\n",
       "      <td>-</td>\n",
       "      <td>1.455</td>\n",
       "      <td>2.698</td>\n",
       "      <td>-</td>\n",
       "    </tr>\n",
       "    <tr>\n",
       "      <th>4</th>\n",
       "      <td>1974</td>\n",
       "      <td>-</td>\n",
       "      <td>-</td>\n",
       "      <td>2.123</td>\n",
       "      <td>3.902</td>\n",
       "      <td>-</td>\n",
       "    </tr>\n",
       "  </tbody>\n",
       "</table>\n",
       "</div>"
      ],
      "text/plain": [
       "   Year Price Index (IMF) Cost Index (CBDT) Gold Index (RBI)  \\\n",
       "0  1970                 -                 -            0.447   \n",
       "1  1971                 -                 -            0.516   \n",
       "2  1972                 -                 -            0.801   \n",
       "3  1973                 -                 -            1.455   \n",
       "4  1974                 -                 -            2.123   \n",
       "\n",
       "  Silver Index (RBI) House Index (RBI)\\n  \n",
       "0              1.383                   -  \n",
       "1              1.211                   -  \n",
       "2              1.529                   -  \n",
       "3              2.698                   -  \n",
       "4              3.902                   -  "
      ]
     },
     "execution_count": 19,
     "metadata": {},
     "output_type": "execute_result"
    }
   ],
   "source": [
    "# We need to further split the cells using ',' as a delimiter\n",
    " \n",
    "df_tb2=pd.DataFrame(df_tbl.C1.str.split(',').tolist())\n",
    "df_tb2.head()\n",
    "df_tb2.columns=headings # Headers are already stored in headings\n",
    "df_tb2.head()"
   ]
  }
 ],
 "metadata": {
  "kernelspec": {
   "display_name": "Python 3",
   "language": "python",
   "name": "python3"
  },
  "language_info": {
   "codemirror_mode": {
    "name": "ipython",
    "version": 3
   },
   "file_extension": ".py",
   "mimetype": "text/x-python",
   "name": "python",
   "nbconvert_exporter": "python",
   "pygments_lexer": "ipython3",
   "version": "3.7.1"
  }
 },
 "nbformat": 4,
 "nbformat_minor": 2
}
